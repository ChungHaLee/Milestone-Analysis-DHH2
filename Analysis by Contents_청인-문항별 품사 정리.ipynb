{
 "cells": [
  {
   "cell_type": "markdown",
   "id": "bae985b7",
   "metadata": {},
   "source": [
    "# Analysis by Contents"
   ]
  },
  {
   "cell_type": "code",
   "execution_count": 1,
   "id": "363f0add",
   "metadata": {},
   "outputs": [],
   "source": [
    "import pandas as pd\n",
    "from konlpy.tag import  Okt\n",
    "from collections import Counter\n",
    "from soynlp.utils import DoublespaceLineCorpus\n",
    "from soynlp.noun import LRNounExtractor_v2\n",
    "okt = Okt()"
   ]
  },
  {
   "cell_type": "markdown",
   "id": "84e0cfb3",
   "metadata": {},
   "source": [
    "### 1. 전체 데이터"
   ]
  },
  {
   "cell_type": "code",
   "execution_count": 2,
   "id": "d9f15ab6",
   "metadata": {
    "scrolled": false
   },
   "outputs": [
    {
     "data": {
      "text/html": [
       "<div>\n",
       "<style scoped>\n",
       "    .dataframe tbody tr th:only-of-type {\n",
       "        vertical-align: middle;\n",
       "    }\n",
       "\n",
       "    .dataframe tbody tr th {\n",
       "        vertical-align: top;\n",
       "    }\n",
       "\n",
       "    .dataframe thead th {\n",
       "        text-align: right;\n",
       "    }\n",
       "</style>\n",
       "<table border=\"1\" class=\"dataframe\">\n",
       "  <thead>\n",
       "    <tr style=\"text-align: right;\">\n",
       "      <th></th>\n",
       "      <th>Unnamed: 0</th>\n",
       "      <th>Unnamed: 0.1</th>\n",
       "      <th>question_num</th>\n",
       "      <th>modality</th>\n",
       "      <th>answer</th>\n",
       "      <th>answer_input</th>\n",
       "      <th>submit_time</th>\n",
       "      <th>elapse_time</th>\n",
       "    </tr>\n",
       "  </thead>\n",
       "  <tbody>\n",
       "    <tr>\n",
       "      <th>0</th>\n",
       "      <td>0</td>\n",
       "      <td>0</td>\n",
       "      <td>1</td>\n",
       "      <td>\"music\"</td>\n",
       "      <td>[\"K-POP,  걸그룹, 댄스음악, 리드미컬하다, 잘게 쪼개지는 박자, 반복되는 ...</td>\n",
       "      <td>NaN</td>\n",
       "      <td>2021-11-11 21:30:04</td>\n",
       "      <td>555094</td>\n",
       "    </tr>\n",
       "    <tr>\n",
       "      <th>1</th>\n",
       "      <td>1</td>\n",
       "      <td>1</td>\n",
       "      <td>2</td>\n",
       "      <td>\"music\"</td>\n",
       "      <td>[\"무대에서 춤을 추고 있는 걸그룹 멤버들, 그러다 노래가 끝나는 박자에 맞춰 엔딩...</td>\n",
       "      <td>NaN</td>\n",
       "      <td>2021-11-11 21:39:42</td>\n",
       "      <td>572337</td>\n",
       "    </tr>\n",
       "    <tr>\n",
       "      <th>2</th>\n",
       "      <td>2</td>\n",
       "      <td>2</td>\n",
       "      <td>3</td>\n",
       "      <td>\"music\"</td>\n",
       "      <td>{\"select\": [\"아름다운\"], \"evaluation\": {\"strength\"...</td>\n",
       "      <td>NaN</td>\n",
       "      <td>2021-11-11 21:41:17</td>\n",
       "      <td>91508</td>\n",
       "    </tr>\n",
       "    <tr>\n",
       "      <th>3</th>\n",
       "      <td>3</td>\n",
       "      <td>3</td>\n",
       "      <td>4</td>\n",
       "      <td>\"music\"</td>\n",
       "      <td>[\"활기차고 에너지 넘치는 소녀, 강렬한 락 사운드, 한껏 고조되었다가 차분해지는 ...</td>\n",
       "      <td>NaN</td>\n",
       "      <td>2021-11-11 21:44:27</td>\n",
       "      <td>188617</td>\n",
       "    </tr>\n",
       "    <tr>\n",
       "      <th>4</th>\n",
       "      <td>4</td>\n",
       "      <td>4</td>\n",
       "      <td>5</td>\n",
       "      <td>\"music\"</td>\n",
       "      <td>[\"무대 위에서 차분하게 서있다가 샤우팅 후 크게 점프하며 긴 머리가 흩날리는 걸그...</td>\n",
       "      <td>NaN</td>\n",
       "      <td>2021-11-11 21:49:55</td>\n",
       "      <td>325476</td>\n",
       "    </tr>\n",
       "    <tr>\n",
       "      <th>...</th>\n",
       "      <td>...</td>\n",
       "      <td>...</td>\n",
       "      <td>...</td>\n",
       "      <td>...</td>\n",
       "      <td>...</td>\n",
       "      <td>...</td>\n",
       "      <td>...</td>\n",
       "      <td>...</td>\n",
       "    </tr>\n",
       "    <tr>\n",
       "      <th>7057</th>\n",
       "      <td>315</td>\n",
       "      <td>315</td>\n",
       "      <td>302</td>\n",
       "      <td>\"visual\"</td>\n",
       "      <td>[\"축구장에서 혼자 조용한 꼬마 아이\", \"아주 간간히 들리는 조용한 발라드\", \"...</td>\n",
       "      <td>NaN</td>\n",
       "      <td>2021-11-13 01:21:42</td>\n",
       "      <td>87746</td>\n",
       "    </tr>\n",
       "    <tr>\n",
       "      <th>7058</th>\n",
       "      <td>316</td>\n",
       "      <td>316</td>\n",
       "      <td>303</td>\n",
       "      <td>\"visual\"</td>\n",
       "      <td>{\"select\": [], \"evaluation\": {\"strength\": 4, \"...</td>\n",
       "      <td>NaN</td>\n",
       "      <td>2021-11-13 01:21:48</td>\n",
       "      <td>4321</td>\n",
       "    </tr>\n",
       "    <tr>\n",
       "      <th>7059</th>\n",
       "      <td>317</td>\n",
       "      <td>317</td>\n",
       "      <td>304</td>\n",
       "      <td>\"visual\"</td>\n",
       "      <td>[\"부슬부슬 비가 내리며 온세상이 젖는다\", \"추적추적한 날의 복잡한 기분을 시각화...</td>\n",
       "      <td>NaN</td>\n",
       "      <td>2021-11-13 01:22:49</td>\n",
       "      <td>50686</td>\n",
       "    </tr>\n",
       "    <tr>\n",
       "      <th>7060</th>\n",
       "      <td>318</td>\n",
       "      <td>318</td>\n",
       "      <td>305</td>\n",
       "      <td>\"visual\"</td>\n",
       "      <td>[\"비가 내려 페인트가 빗물에 섞여 하수구로 흐르는 영상\", \"빗소리와 어울리는 발...</td>\n",
       "      <td>NaN</td>\n",
       "      <td>2021-11-13 01:24:21</td>\n",
       "      <td>90981</td>\n",
       "    </tr>\n",
       "    <tr>\n",
       "      <th>7061</th>\n",
       "      <td>319</td>\n",
       "      <td>319</td>\n",
       "      <td>306</td>\n",
       "      <td>\"visual\"</td>\n",
       "      <td>{\"select\": [], \"evaluation\": {\"strength\": 2, \"...</td>\n",
       "      <td>NaN</td>\n",
       "      <td>2021-11-13 01:24:30</td>\n",
       "      <td>7511</td>\n",
       "    </tr>\n",
       "  </tbody>\n",
       "</table>\n",
       "<p>7062 rows × 8 columns</p>\n",
       "</div>"
      ],
      "text/plain": [
       "      Unnamed: 0  Unnamed: 0.1  question_num  modality  \\\n",
       "0              0             0             1   \"music\"   \n",
       "1              1             1             2   \"music\"   \n",
       "2              2             2             3   \"music\"   \n",
       "3              3             3             4   \"music\"   \n",
       "4              4             4             5   \"music\"   \n",
       "...          ...           ...           ...       ...   \n",
       "7057         315           315           302  \"visual\"   \n",
       "7058         316           316           303  \"visual\"   \n",
       "7059         317           317           304  \"visual\"   \n",
       "7060         318           318           305  \"visual\"   \n",
       "7061         319           319           306  \"visual\"   \n",
       "\n",
       "                                                 answer answer_input  \\\n",
       "0     [\"K-POP,  걸그룹, 댄스음악, 리드미컬하다, 잘게 쪼개지는 박자, 반복되는 ...          NaN   \n",
       "1     [\"무대에서 춤을 추고 있는 걸그룹 멤버들, 그러다 노래가 끝나는 박자에 맞춰 엔딩...          NaN   \n",
       "2     {\"select\": [\"아름다운\"], \"evaluation\": {\"strength\"...          NaN   \n",
       "3     [\"활기차고 에너지 넘치는 소녀, 강렬한 락 사운드, 한껏 고조되었다가 차분해지는 ...          NaN   \n",
       "4     [\"무대 위에서 차분하게 서있다가 샤우팅 후 크게 점프하며 긴 머리가 흩날리는 걸그...          NaN   \n",
       "...                                                 ...          ...   \n",
       "7057  [\"축구장에서 혼자 조용한 꼬마 아이\", \"아주 간간히 들리는 조용한 발라드\", \"...          NaN   \n",
       "7058  {\"select\": [], \"evaluation\": {\"strength\": 4, \"...          NaN   \n",
       "7059  [\"부슬부슬 비가 내리며 온세상이 젖는다\", \"추적추적한 날의 복잡한 기분을 시각화...          NaN   \n",
       "7060  [\"비가 내려 페인트가 빗물에 섞여 하수구로 흐르는 영상\", \"빗소리와 어울리는 발...          NaN   \n",
       "7061  {\"select\": [], \"evaluation\": {\"strength\": 2, \"...          NaN   \n",
       "\n",
       "              submit_time  elapse_time  \n",
       "0     2021-11-11 21:30:04       555094  \n",
       "1     2021-11-11 21:39:42       572337  \n",
       "2     2021-11-11 21:41:17        91508  \n",
       "3     2021-11-11 21:44:27       188617  \n",
       "4     2021-11-11 21:49:55       325476  \n",
       "...                   ...          ...  \n",
       "7057  2021-11-13 01:21:42        87746  \n",
       "7058  2021-11-13 01:21:48         4321  \n",
       "7059  2021-11-13 01:22:49        50686  \n",
       "7060  2021-11-13 01:24:21        90981  \n",
       "7061  2021-11-13 01:24:30         7511  \n",
       "\n",
       "[7062 rows x 8 columns]"
      ]
     },
     "execution_count": 2,
     "metadata": {},
     "output_type": "execute_result"
    }
   ],
   "source": [
    "every = pd.read_csv('./real_results/concat_everything_hear.csv')\n",
    "every"
   ]
  },
  {
   "cell_type": "code",
   "execution_count": 3,
   "id": "dfecff4a",
   "metadata": {},
   "outputs": [],
   "source": [
    "every = every.drop(['Unnamed: 0'], axis=1)\n",
    "every = every.drop(['Unnamed: 0.1'], axis=1)\n",
    "every = every.fillna('-')"
   ]
  },
  {
   "cell_type": "markdown",
   "id": "170f8895",
   "metadata": {},
   "source": [
    "### 2. 음악 데이터"
   ]
  },
  {
   "cell_type": "code",
   "execution_count": 4,
   "id": "6026e4e3",
   "metadata": {},
   "outputs": [
    {
     "data": {
      "text/html": [
       "<div>\n",
       "<style scoped>\n",
       "    .dataframe tbody tr th:only-of-type {\n",
       "        vertical-align: middle;\n",
       "    }\n",
       "\n",
       "    .dataframe tbody tr th {\n",
       "        vertical-align: top;\n",
       "    }\n",
       "\n",
       "    .dataframe thead th {\n",
       "        text-align: right;\n",
       "    }\n",
       "</style>\n",
       "<table border=\"1\" class=\"dataframe\">\n",
       "  <thead>\n",
       "    <tr style=\"text-align: right;\">\n",
       "      <th></th>\n",
       "      <th>question_num</th>\n",
       "      <th>modality</th>\n",
       "      <th>answer</th>\n",
       "      <th>answer_input</th>\n",
       "      <th>submit_time</th>\n",
       "      <th>elapse_time</th>\n",
       "    </tr>\n",
       "  </thead>\n",
       "  <tbody>\n",
       "    <tr>\n",
       "      <th>0</th>\n",
       "      <td>1</td>\n",
       "      <td>\"music\"</td>\n",
       "      <td>[\"K-POP,  걸그룹, 댄스음악, 리드미컬하다, 잘게 쪼개지는 박자, 반복되는 ...</td>\n",
       "      <td>-</td>\n",
       "      <td>2021-11-11 21:30:04</td>\n",
       "      <td>555094</td>\n",
       "    </tr>\n",
       "    <tr>\n",
       "      <th>1</th>\n",
       "      <td>2</td>\n",
       "      <td>\"music\"</td>\n",
       "      <td>[\"무대에서 춤을 추고 있는 걸그룹 멤버들, 그러다 노래가 끝나는 박자에 맞춰 엔딩...</td>\n",
       "      <td>-</td>\n",
       "      <td>2021-11-11 21:39:42</td>\n",
       "      <td>572337</td>\n",
       "    </tr>\n",
       "    <tr>\n",
       "      <th>2</th>\n",
       "      <td>3</td>\n",
       "      <td>\"music\"</td>\n",
       "      <td>{\"select\": [\"아름다운\"], \"evaluation\": {\"strength\"...</td>\n",
       "      <td>-</td>\n",
       "      <td>2021-11-11 21:41:17</td>\n",
       "      <td>91508</td>\n",
       "    </tr>\n",
       "    <tr>\n",
       "      <th>3</th>\n",
       "      <td>4</td>\n",
       "      <td>\"music\"</td>\n",
       "      <td>[\"활기차고 에너지 넘치는 소녀, 강렬한 락 사운드, 한껏 고조되었다가 차분해지는 ...</td>\n",
       "      <td>-</td>\n",
       "      <td>2021-11-11 21:44:27</td>\n",
       "      <td>188617</td>\n",
       "    </tr>\n",
       "    <tr>\n",
       "      <th>4</th>\n",
       "      <td>5</td>\n",
       "      <td>\"music\"</td>\n",
       "      <td>[\"무대 위에서 차분하게 서있다가 샤우팅 후 크게 점프하며 긴 머리가 흩날리는 걸그...</td>\n",
       "      <td>-</td>\n",
       "      <td>2021-11-11 21:49:55</td>\n",
       "      <td>325476</td>\n",
       "    </tr>\n",
       "    <tr>\n",
       "      <th>...</th>\n",
       "      <td>...</td>\n",
       "      <td>...</td>\n",
       "      <td>...</td>\n",
       "      <td>...</td>\n",
       "      <td>...</td>\n",
       "      <td>...</td>\n",
       "    </tr>\n",
       "    <tr>\n",
       "      <th>6983</th>\n",
       "      <td>100</td>\n",
       "      <td>\"music\"</td>\n",
       "      <td>[\"기차를 타고 일정한 목적지 없이 떠나는 느낌\", \"짜증나고 답답할때 이 노래를 ...</td>\n",
       "      <td>-</td>\n",
       "      <td>2021-11-13 00:13:01</td>\n",
       "      <td>38285</td>\n",
       "    </tr>\n",
       "    <tr>\n",
       "      <th>6984</th>\n",
       "      <td>101</td>\n",
       "      <td>\"music\"</td>\n",
       "      <td>[\"기차안에서 멍하니 시선을 풍경에 고정한 아저씨\", \"턱을 괴고 힘없이 한쪽 다리...</td>\n",
       "      <td>-</td>\n",
       "      <td>2021-11-13 00:14:26</td>\n",
       "      <td>83048</td>\n",
       "    </tr>\n",
       "    <tr>\n",
       "      <th>6985</th>\n",
       "      <td>102</td>\n",
       "      <td>\"music\"</td>\n",
       "      <td>{\"select\": [], \"evaluation\": {\"strength\": 2, \"...</td>\n",
       "      <td>-</td>\n",
       "      <td>2021-11-13 00:14:31</td>\n",
       "      <td>2998</td>\n",
       "    </tr>\n",
       "    <tr>\n",
       "      <th>6986</th>\n",
       "      <td>103</td>\n",
       "      <td>\"music\"</td>\n",
       "      <td>[\"라디오에서 마지막 인사말할 때 나오는 음악의 느낌\", \"추억의 감성 폭발, 들으...</td>\n",
       "      <td>-</td>\n",
       "      <td>2021-11-13 00:15:26</td>\n",
       "      <td>53514</td>\n",
       "    </tr>\n",
       "    <tr>\n",
       "      <th>6987</th>\n",
       "      <td>104</td>\n",
       "      <td>\"music\"</td>\n",
       "      <td>[\"엽서에 정성들여 낙엽을 붙이는 여고생\", \"둥실둥실 가볍게 몸을 음악에 흘려보내...</td>\n",
       "      <td>-</td>\n",
       "      <td>2021-11-13 00:17:19</td>\n",
       "      <td>112076</td>\n",
       "    </tr>\n",
       "  </tbody>\n",
       "</table>\n",
       "<p>3293 rows × 6 columns</p>\n",
       "</div>"
      ],
      "text/plain": [
       "      question_num modality  \\\n",
       "0                1  \"music\"   \n",
       "1                2  \"music\"   \n",
       "2                3  \"music\"   \n",
       "3                4  \"music\"   \n",
       "4                5  \"music\"   \n",
       "...            ...      ...   \n",
       "6983           100  \"music\"   \n",
       "6984           101  \"music\"   \n",
       "6985           102  \"music\"   \n",
       "6986           103  \"music\"   \n",
       "6987           104  \"music\"   \n",
       "\n",
       "                                                 answer answer_input  \\\n",
       "0     [\"K-POP,  걸그룹, 댄스음악, 리드미컬하다, 잘게 쪼개지는 박자, 반복되는 ...            -   \n",
       "1     [\"무대에서 춤을 추고 있는 걸그룹 멤버들, 그러다 노래가 끝나는 박자에 맞춰 엔딩...            -   \n",
       "2     {\"select\": [\"아름다운\"], \"evaluation\": {\"strength\"...            -   \n",
       "3     [\"활기차고 에너지 넘치는 소녀, 강렬한 락 사운드, 한껏 고조되었다가 차분해지는 ...            -   \n",
       "4     [\"무대 위에서 차분하게 서있다가 샤우팅 후 크게 점프하며 긴 머리가 흩날리는 걸그...            -   \n",
       "...                                                 ...          ...   \n",
       "6983  [\"기차를 타고 일정한 목적지 없이 떠나는 느낌\", \"짜증나고 답답할때 이 노래를 ...            -   \n",
       "6984  [\"기차안에서 멍하니 시선을 풍경에 고정한 아저씨\", \"턱을 괴고 힘없이 한쪽 다리...            -   \n",
       "6985  {\"select\": [], \"evaluation\": {\"strength\": 2, \"...            -   \n",
       "6986  [\"라디오에서 마지막 인사말할 때 나오는 음악의 느낌\", \"추억의 감성 폭발, 들으...            -   \n",
       "6987  [\"엽서에 정성들여 낙엽을 붙이는 여고생\", \"둥실둥실 가볍게 몸을 음악에 흘려보내...            -   \n",
       "\n",
       "              submit_time  elapse_time  \n",
       "0     2021-11-11 21:30:04       555094  \n",
       "1     2021-11-11 21:39:42       572337  \n",
       "2     2021-11-11 21:41:17        91508  \n",
       "3     2021-11-11 21:44:27       188617  \n",
       "4     2021-11-11 21:49:55       325476  \n",
       "...                   ...          ...  \n",
       "6983  2021-11-13 00:13:01        38285  \n",
       "6984  2021-11-13 00:14:26        83048  \n",
       "6985  2021-11-13 00:14:31         2998  \n",
       "6986  2021-11-13 00:15:26        53514  \n",
       "6987  2021-11-13 00:17:19       112076  \n",
       "\n",
       "[3293 rows x 6 columns]"
      ]
     },
     "execution_count": 4,
     "metadata": {},
     "output_type": "execute_result"
    }
   ],
   "source": [
    "music_df = every[every['modality'] == '\"music\"']\n",
    "music_df"
   ]
  },
  {
   "cell_type": "code",
   "execution_count": 5,
   "id": "12dd3742",
   "metadata": {},
   "outputs": [
    {
     "data": {
      "text/plain": [
       "'{\"select\": [\"쾌활한\", \"강인한\"], \"evaluation\": {\"strength\": 8, \"positive\": 8, \"activity\": 9}}'"
      ]
     },
     "execution_count": 5,
     "metadata": {},
     "output_type": "execute_result"
    }
   ],
   "source": [
    "music_df['answer'][5]"
   ]
  },
  {
   "cell_type": "markdown",
   "id": "5a3fd742",
   "metadata": {},
   "source": [
    "### 3. 댄스 데이터"
   ]
  },
  {
   "cell_type": "code",
   "execution_count": 6,
   "id": "b1558307",
   "metadata": {},
   "outputs": [
    {
     "data": {
      "text/html": [
       "<div>\n",
       "<style scoped>\n",
       "    .dataframe tbody tr th:only-of-type {\n",
       "        vertical-align: middle;\n",
       "    }\n",
       "\n",
       "    .dataframe tbody tr th {\n",
       "        vertical-align: top;\n",
       "    }\n",
       "\n",
       "    .dataframe thead th {\n",
       "        text-align: right;\n",
       "    }\n",
       "</style>\n",
       "<table border=\"1\" class=\"dataframe\">\n",
       "  <thead>\n",
       "    <tr style=\"text-align: right;\">\n",
       "      <th></th>\n",
       "      <th>question_num</th>\n",
       "      <th>modality</th>\n",
       "      <th>answer</th>\n",
       "      <th>answer_input</th>\n",
       "      <th>submit_time</th>\n",
       "      <th>elapse_time</th>\n",
       "    </tr>\n",
       "  </thead>\n",
       "  <tbody>\n",
       "    <tr>\n",
       "      <th>52</th>\n",
       "      <td>139</td>\n",
       "      <td>\"dance\"</td>\n",
       "      <td>[\"건들거린다. 자신감이 넘친다. 동작이 크다. 단순하다. 다리가 교차된다. 팔을 ...</td>\n",
       "      <td>-</td>\n",
       "      <td>2021-11-12 16:37:13</td>\n",
       "      <td>12499795</td>\n",
       "    </tr>\n",
       "    <tr>\n",
       "      <th>53</th>\n",
       "      <td>140</td>\n",
       "      <td>\"dance\"</td>\n",
       "      <td>[\"딱히 떠오르는 심상이 없다.\", \"보이그룹의 단체 댄스곡.\", \"심심한 것\", ...</td>\n",
       "      <td>-</td>\n",
       "      <td>2021-11-12 16:39:14</td>\n",
       "      <td>119520</td>\n",
       "    </tr>\n",
       "    <tr>\n",
       "      <th>54</th>\n",
       "      <td>141</td>\n",
       "      <td>\"dance\"</td>\n",
       "      <td>{\"select\": [\"강인한\"], \"evaluation\": {\"strength\":...</td>\n",
       "      <td>-</td>\n",
       "      <td>2021-11-12 16:39:41</td>\n",
       "      <td>24693</td>\n",
       "    </tr>\n",
       "    <tr>\n",
       "      <th>55</th>\n",
       "      <td>142</td>\n",
       "      <td>\"dance\"</td>\n",
       "      <td>[\"힙합 댄스, 경쾌하다, 활기차다, 리드미컬하다, 신난다.\", \"힙합 댄스의 기초...</td>\n",
       "      <td>-</td>\n",
       "      <td>2021-11-12 16:41:02</td>\n",
       "      <td>80917</td>\n",
       "    </tr>\n",
       "    <tr>\n",
       "      <th>56</th>\n",
       "      <td>143</td>\n",
       "      <td>\"dance\"</td>\n",
       "      <td>[\"그래비티가 벽에 그려진 스케이트장에서 스케이트를 타는 소년.\", \"펑키한 힙합 ...</td>\n",
       "      <td>-</td>\n",
       "      <td>2021-11-12 16:42:59</td>\n",
       "      <td>114987</td>\n",
       "    </tr>\n",
       "    <tr>\n",
       "      <th>...</th>\n",
       "      <td>...</td>\n",
       "      <td>...</td>\n",
       "      <td>...</td>\n",
       "      <td>...</td>\n",
       "      <td>...</td>\n",
       "      <td>...</td>\n",
       "    </tr>\n",
       "    <tr>\n",
       "      <th>6917</th>\n",
       "      <td>154</td>\n",
       "      <td>\"dance\"</td>\n",
       "      <td>[\"가위를 한 모서리를 잡고 돌리는 느낌\", \"360도로 회전하며 다리를 가위처럼 ...</td>\n",
       "      <td>-</td>\n",
       "      <td>2021-11-12 23:24:26</td>\n",
       "      <td>38490</td>\n",
       "    </tr>\n",
       "    <tr>\n",
       "      <th>6918</th>\n",
       "      <td>155</td>\n",
       "      <td>\"dance\"</td>\n",
       "      <td>[\"팽이가 계속 같은 속도로 도는 장면\", \"효과음이 하나도 없는 단조로운멜로디가 ...</td>\n",
       "      <td>-</td>\n",
       "      <td>2021-11-12 23:25:59</td>\n",
       "      <td>92416</td>\n",
       "    </tr>\n",
       "    <tr>\n",
       "      <th>6919</th>\n",
       "      <td>156</td>\n",
       "      <td>\"dance\"</td>\n",
       "      <td>{\"select\": [], \"evaluation\": {\"strength\": 7, \"...</td>\n",
       "      <td>-</td>\n",
       "      <td>2021-11-12 23:26:05</td>\n",
       "      <td>3652</td>\n",
       "    </tr>\n",
       "    <tr>\n",
       "      <th>6920</th>\n",
       "      <td>157</td>\n",
       "      <td>\"dance\"</td>\n",
       "      <td>[\"여기가 어딘지 찾는 느낌\", \"여기가 어딘지 알고 싶다면 이 동작을 반복하세요\"]</td>\n",
       "      <td>-</td>\n",
       "      <td>2021-11-12 23:26:43</td>\n",
       "      <td>36636</td>\n",
       "    </tr>\n",
       "    <tr>\n",
       "      <th>6921</th>\n",
       "      <td>158</td>\n",
       "      <td>\"dance\"</td>\n",
       "      <td>[\"여기가 어디쯤일까 여행객이 여행지에서 길을 헤매는 느낌\", \"지명이 잔뜩 가사에...</td>\n",
       "      <td>-</td>\n",
       "      <td>2021-11-12 23:27:55</td>\n",
       "      <td>70166</td>\n",
       "    </tr>\n",
       "  </tbody>\n",
       "</table>\n",
       "<p>1251 rows × 6 columns</p>\n",
       "</div>"
      ],
      "text/plain": [
       "      question_num modality  \\\n",
       "52             139  \"dance\"   \n",
       "53             140  \"dance\"   \n",
       "54             141  \"dance\"   \n",
       "55             142  \"dance\"   \n",
       "56             143  \"dance\"   \n",
       "...            ...      ...   \n",
       "6917           154  \"dance\"   \n",
       "6918           155  \"dance\"   \n",
       "6919           156  \"dance\"   \n",
       "6920           157  \"dance\"   \n",
       "6921           158  \"dance\"   \n",
       "\n",
       "                                                 answer answer_input  \\\n",
       "52    [\"건들거린다. 자신감이 넘친다. 동작이 크다. 단순하다. 다리가 교차된다. 팔을 ...            -   \n",
       "53    [\"딱히 떠오르는 심상이 없다.\", \"보이그룹의 단체 댄스곡.\", \"심심한 것\", ...            -   \n",
       "54    {\"select\": [\"강인한\"], \"evaluation\": {\"strength\":...            -   \n",
       "55    [\"힙합 댄스, 경쾌하다, 활기차다, 리드미컬하다, 신난다.\", \"힙합 댄스의 기초...            -   \n",
       "56    [\"그래비티가 벽에 그려진 스케이트장에서 스케이트를 타는 소년.\", \"펑키한 힙합 ...            -   \n",
       "...                                                 ...          ...   \n",
       "6917  [\"가위를 한 모서리를 잡고 돌리는 느낌\", \"360도로 회전하며 다리를 가위처럼 ...            -   \n",
       "6918  [\"팽이가 계속 같은 속도로 도는 장면\", \"효과음이 하나도 없는 단조로운멜로디가 ...            -   \n",
       "6919  {\"select\": [], \"evaluation\": {\"strength\": 7, \"...            -   \n",
       "6920    [\"여기가 어딘지 찾는 느낌\", \"여기가 어딘지 알고 싶다면 이 동작을 반복하세요\"]            -   \n",
       "6921  [\"여기가 어디쯤일까 여행객이 여행지에서 길을 헤매는 느낌\", \"지명이 잔뜩 가사에...            -   \n",
       "\n",
       "              submit_time  elapse_time  \n",
       "52    2021-11-12 16:37:13     12499795  \n",
       "53    2021-11-12 16:39:14       119520  \n",
       "54    2021-11-12 16:39:41        24693  \n",
       "55    2021-11-12 16:41:02        80917  \n",
       "56    2021-11-12 16:42:59       114987  \n",
       "...                   ...          ...  \n",
       "6917  2021-11-12 23:24:26        38490  \n",
       "6918  2021-11-12 23:25:59        92416  \n",
       "6919  2021-11-12 23:26:05         3652  \n",
       "6920  2021-11-12 23:26:43        36636  \n",
       "6921  2021-11-12 23:27:55        70166  \n",
       "\n",
       "[1251 rows x 6 columns]"
      ]
     },
     "execution_count": 6,
     "metadata": {},
     "output_type": "execute_result"
    }
   ],
   "source": [
    "dance_df = every[every['modality'] == '\"dance\"']\n",
    "dance_df"
   ]
  },
  {
   "cell_type": "markdown",
   "id": "ce5ab137",
   "metadata": {},
   "source": [
    "### 4. 시각적 데이터"
   ]
  },
  {
   "cell_type": "code",
   "execution_count": 7,
   "id": "cdcf115a",
   "metadata": {},
   "outputs": [],
   "source": [
    "visual_df = every[every['modality'] == '\"visual\"']\n",
    "face_df = visual_df[visual_df['question_num'] <= 228]\n",
    "movie_df = visual_df[(visual_df['question_num'] <= 258) & (visual_df['question_num'] >= 229)]\n",
    "abs_vis_df = visual_df[(visual_df['question_num'] <= 288) & (visual_df['question_num'] >= 259)]\n",
    "mv_df = visual_df[(visual_df['question_num'] <= 318) & (visual_df['question_num'] >= 289)]"
   ]
  },
  {
   "cell_type": "markdown",
   "id": "cd4b90c3",
   "metadata": {},
   "source": [
    "### 5. 댄스 + 시각"
   ]
  },
  {
   "cell_type": "code",
   "execution_count": 8,
   "id": "5f8e19be",
   "metadata": {},
   "outputs": [],
   "source": [
    "dance_with_visual_df = pd.concat([music_df, visual_df])"
   ]
  },
  {
   "cell_type": "code",
   "execution_count": 9,
   "id": "9dd684db",
   "metadata": {},
   "outputs": [
    {
     "data": {
      "text/html": [
       "<div>\n",
       "<style scoped>\n",
       "    .dataframe tbody tr th:only-of-type {\n",
       "        vertical-align: middle;\n",
       "    }\n",
       "\n",
       "    .dataframe tbody tr th {\n",
       "        vertical-align: top;\n",
       "    }\n",
       "\n",
       "    .dataframe thead th {\n",
       "        text-align: right;\n",
       "    }\n",
       "</style>\n",
       "<table border=\"1\" class=\"dataframe\">\n",
       "  <thead>\n",
       "    <tr style=\"text-align: right;\">\n",
       "      <th></th>\n",
       "      <th>question_num</th>\n",
       "      <th>modality</th>\n",
       "      <th>answer</th>\n",
       "      <th>answer_input</th>\n",
       "      <th>submit_time</th>\n",
       "      <th>elapse_time</th>\n",
       "    </tr>\n",
       "  </thead>\n",
       "  <tbody>\n",
       "    <tr>\n",
       "      <th>0</th>\n",
       "      <td>1</td>\n",
       "      <td>\"music\"</td>\n",
       "      <td>[\"K-POP,  걸그룹, 댄스음악, 리드미컬하다, 잘게 쪼개지는 박자, 반복되는 ...</td>\n",
       "      <td>-</td>\n",
       "      <td>2021-11-11 21:30:04</td>\n",
       "      <td>555094</td>\n",
       "    </tr>\n",
       "    <tr>\n",
       "      <th>1</th>\n",
       "      <td>2</td>\n",
       "      <td>\"music\"</td>\n",
       "      <td>[\"무대에서 춤을 추고 있는 걸그룹 멤버들, 그러다 노래가 끝나는 박자에 맞춰 엔딩...</td>\n",
       "      <td>-</td>\n",
       "      <td>2021-11-11 21:39:42</td>\n",
       "      <td>572337</td>\n",
       "    </tr>\n",
       "    <tr>\n",
       "      <th>2</th>\n",
       "      <td>3</td>\n",
       "      <td>\"music\"</td>\n",
       "      <td>{\"select\": [\"아름다운\"], \"evaluation\": {\"strength\"...</td>\n",
       "      <td>-</td>\n",
       "      <td>2021-11-11 21:41:17</td>\n",
       "      <td>91508</td>\n",
       "    </tr>\n",
       "    <tr>\n",
       "      <th>3</th>\n",
       "      <td>4</td>\n",
       "      <td>\"music\"</td>\n",
       "      <td>[\"활기차고 에너지 넘치는 소녀, 강렬한 락 사운드, 한껏 고조되었다가 차분해지는 ...</td>\n",
       "      <td>-</td>\n",
       "      <td>2021-11-11 21:44:27</td>\n",
       "      <td>188617</td>\n",
       "    </tr>\n",
       "    <tr>\n",
       "      <th>4</th>\n",
       "      <td>5</td>\n",
       "      <td>\"music\"</td>\n",
       "      <td>[\"무대 위에서 차분하게 서있다가 샤우팅 후 크게 점프하며 긴 머리가 흩날리는 걸그...</td>\n",
       "      <td>-</td>\n",
       "      <td>2021-11-11 21:49:55</td>\n",
       "      <td>325476</td>\n",
       "    </tr>\n",
       "    <tr>\n",
       "      <th>...</th>\n",
       "      <td>...</td>\n",
       "      <td>...</td>\n",
       "      <td>...</td>\n",
       "      <td>...</td>\n",
       "      <td>...</td>\n",
       "      <td>...</td>\n",
       "    </tr>\n",
       "    <tr>\n",
       "      <th>7057</th>\n",
       "      <td>302</td>\n",
       "      <td>\"visual\"</td>\n",
       "      <td>[\"축구장에서 혼자 조용한 꼬마 아이\", \"아주 간간히 들리는 조용한 발라드\", \"...</td>\n",
       "      <td>-</td>\n",
       "      <td>2021-11-13 01:21:42</td>\n",
       "      <td>87746</td>\n",
       "    </tr>\n",
       "    <tr>\n",
       "      <th>7058</th>\n",
       "      <td>303</td>\n",
       "      <td>\"visual\"</td>\n",
       "      <td>{\"select\": [], \"evaluation\": {\"strength\": 4, \"...</td>\n",
       "      <td>-</td>\n",
       "      <td>2021-11-13 01:21:48</td>\n",
       "      <td>4321</td>\n",
       "    </tr>\n",
       "    <tr>\n",
       "      <th>7059</th>\n",
       "      <td>304</td>\n",
       "      <td>\"visual\"</td>\n",
       "      <td>[\"부슬부슬 비가 내리며 온세상이 젖는다\", \"추적추적한 날의 복잡한 기분을 시각화...</td>\n",
       "      <td>-</td>\n",
       "      <td>2021-11-13 01:22:49</td>\n",
       "      <td>50686</td>\n",
       "    </tr>\n",
       "    <tr>\n",
       "      <th>7060</th>\n",
       "      <td>305</td>\n",
       "      <td>\"visual\"</td>\n",
       "      <td>[\"비가 내려 페인트가 빗물에 섞여 하수구로 흐르는 영상\", \"빗소리와 어울리는 발...</td>\n",
       "      <td>-</td>\n",
       "      <td>2021-11-13 01:24:21</td>\n",
       "      <td>90981</td>\n",
       "    </tr>\n",
       "    <tr>\n",
       "      <th>7061</th>\n",
       "      <td>306</td>\n",
       "      <td>\"visual\"</td>\n",
       "      <td>{\"select\": [], \"evaluation\": {\"strength\": 2, \"...</td>\n",
       "      <td>-</td>\n",
       "      <td>2021-11-13 01:24:30</td>\n",
       "      <td>7511</td>\n",
       "    </tr>\n",
       "  </tbody>\n",
       "</table>\n",
       "<p>5811 rows × 6 columns</p>\n",
       "</div>"
      ],
      "text/plain": [
       "      question_num  modality  \\\n",
       "0                1   \"music\"   \n",
       "1                2   \"music\"   \n",
       "2                3   \"music\"   \n",
       "3                4   \"music\"   \n",
       "4                5   \"music\"   \n",
       "...            ...       ...   \n",
       "7057           302  \"visual\"   \n",
       "7058           303  \"visual\"   \n",
       "7059           304  \"visual\"   \n",
       "7060           305  \"visual\"   \n",
       "7061           306  \"visual\"   \n",
       "\n",
       "                                                 answer answer_input  \\\n",
       "0     [\"K-POP,  걸그룹, 댄스음악, 리드미컬하다, 잘게 쪼개지는 박자, 반복되는 ...            -   \n",
       "1     [\"무대에서 춤을 추고 있는 걸그룹 멤버들, 그러다 노래가 끝나는 박자에 맞춰 엔딩...            -   \n",
       "2     {\"select\": [\"아름다운\"], \"evaluation\": {\"strength\"...            -   \n",
       "3     [\"활기차고 에너지 넘치는 소녀, 강렬한 락 사운드, 한껏 고조되었다가 차분해지는 ...            -   \n",
       "4     [\"무대 위에서 차분하게 서있다가 샤우팅 후 크게 점프하며 긴 머리가 흩날리는 걸그...            -   \n",
       "...                                                 ...          ...   \n",
       "7057  [\"축구장에서 혼자 조용한 꼬마 아이\", \"아주 간간히 들리는 조용한 발라드\", \"...            -   \n",
       "7058  {\"select\": [], \"evaluation\": {\"strength\": 4, \"...            -   \n",
       "7059  [\"부슬부슬 비가 내리며 온세상이 젖는다\", \"추적추적한 날의 복잡한 기분을 시각화...            -   \n",
       "7060  [\"비가 내려 페인트가 빗물에 섞여 하수구로 흐르는 영상\", \"빗소리와 어울리는 발...            -   \n",
       "7061  {\"select\": [], \"evaluation\": {\"strength\": 2, \"...            -   \n",
       "\n",
       "              submit_time  elapse_time  \n",
       "0     2021-11-11 21:30:04       555094  \n",
       "1     2021-11-11 21:39:42       572337  \n",
       "2     2021-11-11 21:41:17        91508  \n",
       "3     2021-11-11 21:44:27       188617  \n",
       "4     2021-11-11 21:49:55       325476  \n",
       "...                   ...          ...  \n",
       "7057  2021-11-13 01:21:42        87746  \n",
       "7058  2021-11-13 01:21:48         4321  \n",
       "7059  2021-11-13 01:22:49        50686  \n",
       "7060  2021-11-13 01:24:21        90981  \n",
       "7061  2021-11-13 01:24:30         7511  \n",
       "\n",
       "[5811 rows x 6 columns]"
      ]
     },
     "execution_count": 9,
     "metadata": {},
     "output_type": "execute_result"
    }
   ],
   "source": [
    "dance_with_visual_df"
   ]
  },
  {
   "cell_type": "markdown",
   "id": "0ded6cc6",
   "metadata": {},
   "source": [
    "## 감정단어+차원 vs 텍스트로 나누기"
   ]
  },
  {
   "cell_type": "code",
   "execution_count": 10,
   "id": "114a1e1e",
   "metadata": {},
   "outputs": [],
   "source": [
    "# annotate 단어와 점수만 뽑아내는 함수\n",
    "def extract_annotate(df):\n",
    "    lst = df['answer'].tolist()\n",
    "    annotate_lst = []\n",
    "    \n",
    "    for i in range(len(lst)):\n",
    "        try:\n",
    "            if \"select\" in lst[i]:\n",
    "                annotate_lst.append(lst[i])\n",
    "        except:\n",
    "            annotate_lst.append(lst[i])\n",
    "        \n",
    "    return annotate_lst"
   ]
  },
  {
   "cell_type": "code",
   "execution_count": 11,
   "id": "3d38bf75",
   "metadata": {},
   "outputs": [],
   "source": [
    "# 텍스트 리스트만 뽑아내는 함수\n",
    "def extract_text(df):\n",
    "    lst = df['answer'].tolist()\n",
    "    text_lst = []\n",
    "    \n",
    "    for i in range(len(lst)):\n",
    "        try:\n",
    "            if \"select\" not in lst[i]:\n",
    "                lst[i] = lst[i].replace('[', '').replace(']', '')\n",
    "                text_lst.append(lst[i])\n",
    "        except:\n",
    "            text_lst.append(lst[i])\n",
    "        \n",
    "    return text_lst"
   ]
  },
  {
   "cell_type": "markdown",
   "id": "09a2e74d",
   "metadata": {},
   "source": [
    "## 텍스트 리스트에서 단어 뽑아서 품사 분류하기"
   ]
  },
  {
   "cell_type": "code",
   "execution_count": 12,
   "id": "ee4b0dad",
   "metadata": {},
   "outputs": [],
   "source": [
    "# 문장 리스트에서 감정 단어(형용사)만 뽑는 함수\n",
    "def extract_adj_lst(sentence_lst):\n",
    "    okts = []\n",
    "    adj = []\n",
    "    real_adj = []\n",
    "    \n",
    "    for s in range(len(sentence_lst)):\n",
    "        okts.append(okt.pos(sentence_lst[s]))\n",
    "    \n",
    "    for i in range(len(okts)):\n",
    "        for j in range(len(okts[i])):\n",
    "            if okts[i][j][1] == 'Adjective' and len(okts[i][j][0]) > 1:\n",
    "                adj.append(okts[i][j][0])\n",
    "    \n",
    "    for w in adj:\n",
    "        if w not in stop_words:\n",
    "            real_adj.append(w)\n",
    "            \n",
    "    real_adj = set(real_adj)\n",
    "            \n",
    "    return real_adj"
   ]
  },
  {
   "cell_type": "code",
   "execution_count": 13,
   "id": "a340afad",
   "metadata": {},
   "outputs": [],
   "source": [
    "# 문장 리스트에서 동사만 뽑는 함수\n",
    "def extract_verb_lst(sentence_lst):\n",
    "    okts = []\n",
    "    verb = []\n",
    "    real_verb = []\n",
    "    \n",
    "    for s in range(len(sentence_lst)):\n",
    "        okts.append(okt.pos(sentence_lst[s]))\n",
    "    \n",
    "    for i in range(len(okts)):\n",
    "        for j in range(len(okts[i])):\n",
    "            if okts[i][j][1] == 'Verb' and len(okts[i][j][0]) > 1:\n",
    "                verb.append(okts[i][j][0])\n",
    "    \n",
    "    for w in verb:\n",
    "        if w not in stop_words:\n",
    "            real_verb.append(w)\n",
    "            \n",
    "            \n",
    "    real_verb = set(real_verb)\n",
    "            \n",
    "    return real_verb"
   ]
  },
  {
   "cell_type": "code",
   "execution_count": 14,
   "id": "68fd7183",
   "metadata": {},
   "outputs": [],
   "source": [
    "# 문장 리스트에서 명사만 뽑는 함수\n",
    "def extract_noun_lst(sentence_lst):\n",
    "    with open('sentence.txt', 'w') as f:\n",
    "        for line in sentence_lst:\n",
    "            f.write(line)\n",
    "            \n",
    "    real_noun = []\n",
    "    corpus_path = 'sentence.txt'\n",
    "    sents = DoublespaceLineCorpus(corpus_path, iter_sent=True)\n",
    "    noun_extractor = LRNounExtractor_v2(verbose=True)\n",
    "    nouns = noun_extractor.train_extract(sents)\n",
    "    \n",
    "    for key, value in nouns.items(): # v[0] = frequency, v[1] = score\n",
    "        if value[0] >= 1 or value[1] >= 0.2:\n",
    "            if len(key) > 1:\n",
    "                real_noun.append(key)\n",
    "                \n",
    "    for i in range(len(real_noun)):\n",
    "        real_noun[i] = real_noun[i].replace('.\"', '').replace('\"\"', '')\n",
    "\n",
    "    real_noun = set(real_noun)\n",
    "    \n",
    "    \n",
    "    return real_noun"
   ]
  },
  {
   "cell_type": "code",
   "execution_count": 15,
   "id": "3fee39c6",
   "metadata": {},
   "outputs": [],
   "source": [
    "# 감정단어 불용어 사전 불러오기\n",
    "with open('stop_words.txt', 'r') as file:\n",
    "    stop_word = file.readline()\n",
    "    stop_word = str(stop_word)\n",
    "    \n",
    "stop_word = stop_word.replace(\"\\ufeff\", '').replace(\"'\", '').replace(\",\", '').replace('\\n', '').replace(\"’\", '').replace(\"‘\", '')\n",
    "stop_words = stop_word.split()"
   ]
  },
  {
   "cell_type": "markdown",
   "id": "f1c2ac0f",
   "metadata": {},
   "source": [
    "## NEW 데이터프레임 만들기"
   ]
  },
  {
   "cell_type": "markdown",
   "id": "01682857",
   "metadata": {},
   "source": [
    "### 모달리티별로 텍스트만 추출"
   ]
  },
  {
   "cell_type": "code",
   "execution_count": 16,
   "id": "301a68e9",
   "metadata": {},
   "outputs": [],
   "source": [
    "only_music = extract_text(music_df)"
   ]
  },
  {
   "cell_type": "code",
   "execution_count": 17,
   "id": "d7b361ed",
   "metadata": {},
   "outputs": [],
   "source": [
    "only_dance = extract_text(dance_df)"
   ]
  },
  {
   "cell_type": "code",
   "execution_count": 18,
   "id": "cbc1dad5",
   "metadata": {},
   "outputs": [],
   "source": [
    "only_face = extract_text(face_df)"
   ]
  },
  {
   "cell_type": "code",
   "execution_count": 19,
   "id": "02203cd5",
   "metadata": {},
   "outputs": [],
   "source": [
    "only_movie = extract_text(movie_df)"
   ]
  },
  {
   "cell_type": "code",
   "execution_count": 20,
   "id": "23e58924",
   "metadata": {},
   "outputs": [],
   "source": [
    "only_abs_vis = extract_text(abs_vis_df)"
   ]
  },
  {
   "cell_type": "code",
   "execution_count": 21,
   "id": "7cac8b3d",
   "metadata": {},
   "outputs": [],
   "source": [
    "only_mv = extract_text(mv_df)"
   ]
  },
  {
   "cell_type": "code",
   "execution_count": 22,
   "id": "39f8bdf4",
   "metadata": {},
   "outputs": [],
   "source": [
    "words_lst = []"
   ]
  },
  {
   "cell_type": "code",
   "execution_count": 23,
   "id": "e4353af4",
   "metadata": {},
   "outputs": [],
   "source": [
    "# raw content 텍스트를 받아서 문항별로 이중리스트를 만드는함수\n",
    "def make_problem_per_answer(words_lst, content_text):\n",
    "    row_1 = []\n",
    "    row_2 = []\n",
    "    row_3 = []\n",
    "    row_4 = []\n",
    "    row_5 = []\n",
    "    row_6 = []\n",
    "    \n",
    "    for idx in range(len(content_text)):\n",
    "        content_lst = content_text[idx].split('\", ') # 얘는 리스트가 아님...\n",
    "        if len(content_lst) == 2:\n",
    "            row_1.append(content_lst[0])\n",
    "            row_2.append(content_lst[1])\n",
    "        elif len(content_lst) == 4:\n",
    "            row_3.append(content_lst[0])\n",
    "            row_4.append(content_lst[1])\n",
    "            row_5.append(content_lst[2])\n",
    "            row_6.append(content_lst[3])\n",
    "            \n",
    "    words_lst.append(row_1)\n",
    "    words_lst.append(row_2)\n",
    "    words_lst.append(row_3)\n",
    "    words_lst.append(row_4)\n",
    "    words_lst.append(row_5)\n",
    "    words_lst.append(row_6)\n",
    "    \n",
    "    return words_lst # 모든 문장을 문항별로 더해 만든 이중리스트 생성"
   ]
  },
  {
   "cell_type": "code",
   "execution_count": 24,
   "id": "a80b1a64",
   "metadata": {},
   "outputs": [],
   "source": [
    "# 1번 문항부터 6번 문항까지 이중리스트로 있는 리스트\n",
    "per_problem = make_problem_per_answer(words_lst, only_mv)"
   ]
  },
  {
   "cell_type": "code",
   "execution_count": 25,
   "id": "ee98859b",
   "metadata": {},
   "outputs": [],
   "source": [
    "# 문항별로 전체 단어, 문장을 다 더해 하나의 string 으로 만들어주는 함수\n",
    "# 이걸 하는 이유: 이중리스트에서 텍스트를 뽑아 문자열로 만들어 문자열 하나씩 리스트로 만들어서 extract ~ 함수에 넣어줌\n",
    "def per_problem_words(per_problem, num):\n",
    "    string = ''\n",
    "    for i in range(len(per_problem[num])):\n",
    "        per_problem[num][i] = str(per_problem[num][i])\n",
    "        string += per_problem[num][i]\n",
    "        string = string.replace('[', '').replace(']', '')\n",
    "    return string"
   ]
  },
  {
   "cell_type": "code",
   "execution_count": 26,
   "id": "2c0e4c2b",
   "metadata": {},
   "outputs": [],
   "source": [
    "# 새로운 데이터 프레임 생성해주기\n",
    "new_df_1 = pd.DataFrame(index=range(0, 100), columns = ['문항', '콘텐츠', '명사', '감정단어(형용사)', '동사'])\n",
    "new_df_2 = pd.DataFrame(index=range(0, 100), columns = ['문항', '콘텐츠', '명사', '감정단어(형용사)', '동사'])\n",
    "new_df_3 = pd.DataFrame(index=range(0, 100), columns = ['문항', '콘텐츠', '명사', '감정단어(형용사)', '동사'])\n",
    "new_df_4 = pd.DataFrame(index=range(0, 100), columns = ['문항', '콘텐츠', '명사', '감정단어(형용사)', '동사'])\n",
    "new_df_5 = pd.DataFrame(index=range(0, 100), columns = ['문항', '콘텐츠', '명사', '감정단어(형용사)', '동사'])\n",
    "new_df_6 = pd.DataFrame(index=range(0, 100), columns = ['문항', '콘텐츠', '명사', '감정단어(형용사)', '동사'])"
   ]
  },
  {
   "cell_type": "markdown",
   "id": "170711a6",
   "metadata": {},
   "source": [
    "## 문항별로 품사 나누는 작업"
   ]
  },
  {
   "cell_type": "code",
   "execution_count": 27,
   "id": "11372570",
   "metadata": {},
   "outputs": [],
   "source": [
    "adj_1 = extract_adj_lst([per_problem_words(per_problem, 0)])"
   ]
  },
  {
   "cell_type": "code",
   "execution_count": 28,
   "id": "6f8f309b",
   "metadata": {},
   "outputs": [
    {
     "name": "stdout",
     "output_type": "stream",
     "text": [
      "[Noun Extractor] use default predictors\n",
      "[Noun Extractor] num features: pos=3929, neg=2321, common=107\n",
      "[Noun Extractor] counting eojeols\n",
      "[EojeolCounter] n eojeol = 1260 from 32 sents. mem=0.508 Gb                    \n",
      "[Noun Extractor] complete eojeol counter -> lr graph\n",
      "[Noun Extractor] has been trained. #eojeols=1793, mem=0.508 Gb\n",
      "[Noun Extractor] batch prediction was completed for 540 words\n",
      "[Noun Extractor] checked compounds. discovered 5 compounds\n",
      "[Noun Extractor] postprocessing detaching_features : 145 -> 145\n",
      "[Noun Extractor] postprocessing ignore_features : 145 -> 142\n",
      "[Noun Extractor] postprocessing ignore_NJ : 142 -> 141\n",
      "[Noun Extractor] 141 nouns (5 compounds) with min frequency=1\n",
      "[Noun Extractor] flushing was done. mem=0.516 Gb                    \n",
      "[Noun Extractor] 37.98 % eojeols are covered\n"
     ]
    }
   ],
   "source": [
    "noun_1 = extract_noun_lst([per_problem_words(per_problem, 0)])"
   ]
  },
  {
   "cell_type": "code",
   "execution_count": 29,
   "id": "b4d31798",
   "metadata": {},
   "outputs": [],
   "source": [
    "verb_1 = extract_verb_lst([per_problem_words(per_problem, 0)])"
   ]
  },
  {
   "cell_type": "code",
   "execution_count": 30,
   "id": "ec86f391",
   "metadata": {},
   "outputs": [],
   "source": [
    "adj_2 = extract_adj_lst([per_problem_words(per_problem, 1)])"
   ]
  },
  {
   "cell_type": "code",
   "execution_count": 31,
   "id": "2635064c",
   "metadata": {},
   "outputs": [
    {
     "name": "stdout",
     "output_type": "stream",
     "text": [
      "[Noun Extractor] use default predictors\n",
      "[Noun Extractor] num features: pos=3929, neg=2321, common=107\n",
      "[Noun Extractor] counting eojeols\n",
      "[EojeolCounter] n eojeol = 666 from 24 sents. mem=0.519 Gb                    \n",
      "[Noun Extractor] complete eojeol counter -> lr graph\n",
      "[Noun Extractor] has been trained. #eojeols=908, mem=0.521 Gb\n",
      "[Noun Extractor] batch prediction was completed for 330 words\n",
      "[Noun Extractor] checked compounds. discovered 1 compounds\n",
      "[Noun Extractor] postprocessing detaching_features : 78 -> 78\n",
      "[Noun Extractor] postprocessing ignore_features : 78 -> 74\n",
      "[Noun Extractor] postprocessing ignore_NJ : 74 -> 74\n",
      "[Noun Extractor] 74 nouns (1 compounds) with min frequency=1\n",
      "[Noun Extractor] flushing was done. mem=0.516 Gb                    \n",
      "[Noun Extractor] 29.63 % eojeols are covered\n"
     ]
    }
   ],
   "source": [
    "noun_2 = extract_noun_lst([per_problem_words(per_problem, 1)])"
   ]
  },
  {
   "cell_type": "code",
   "execution_count": 32,
   "id": "67733a25",
   "metadata": {},
   "outputs": [],
   "source": [
    "verb_2 = extract_verb_lst([per_problem_words(per_problem, 1)])"
   ]
  },
  {
   "cell_type": "code",
   "execution_count": 33,
   "id": "ffcd6f31",
   "metadata": {},
   "outputs": [],
   "source": [
    "adj_3 = extract_adj_lst([per_problem_words(per_problem, 2)])"
   ]
  },
  {
   "cell_type": "code",
   "execution_count": 34,
   "id": "91dca26f",
   "metadata": {},
   "outputs": [
    {
     "name": "stdout",
     "output_type": "stream",
     "text": [
      "[Noun Extractor] use default predictors\n",
      "[Noun Extractor] num features: pos=3929, neg=2321, common=107\n",
      "[Noun Extractor] counting eojeols\n",
      "[EojeolCounter] n eojeol = 1674 from 48 sents. mem=0.515 Gb                    \n",
      "[Noun Extractor] complete eojeol counter -> lr graph\n",
      "[Noun Extractor] has been trained. #eojeols=2296, mem=0.516 Gb\n",
      "[Noun Extractor] batch prediction was completed for 799 words\n",
      "[Noun Extractor] checked compounds. discovered 3 compounds\n",
      "[Noun Extractor] postprocessing detaching_features : 192 -> 191\n",
      "[Noun Extractor] postprocessing ignore_features : 191 -> 181\n",
      "[Noun Extractor] postprocessing ignore_NJ : 181 -> 181\n",
      "[Noun Extractor] 181 nouns (3 compounds) with min frequency=1\n",
      "[Noun Extractor] flushing was done. mem=0.518 Gb                    \n",
      "[Noun Extractor] 39.07 % eojeols are covered\n"
     ]
    }
   ],
   "source": [
    "noun_3 = extract_noun_lst([per_problem_words(per_problem, 2)])"
   ]
  },
  {
   "cell_type": "code",
   "execution_count": 35,
   "id": "715aa7da",
   "metadata": {},
   "outputs": [],
   "source": [
    "verb_3 = extract_verb_lst([per_problem_words(per_problem, 2)])"
   ]
  },
  {
   "cell_type": "code",
   "execution_count": 36,
   "id": "d193d677",
   "metadata": {},
   "outputs": [],
   "source": [
    "adj_4 = extract_adj_lst([per_problem_words(per_problem, 3)])"
   ]
  },
  {
   "cell_type": "code",
   "execution_count": 37,
   "id": "2bea552e",
   "metadata": {},
   "outputs": [
    {
     "name": "stdout",
     "output_type": "stream",
     "text": [
      "[Noun Extractor] use default predictors\n",
      "[Noun Extractor] num features: pos=3929, neg=2321, common=107\n",
      "[Noun Extractor] counting eojeols\n",
      "[EojeolCounter] n eojeol = 838 from 22 sents. mem=0.517 Gb                    \n",
      "[Noun Extractor] complete eojeol counter -> lr graph\n",
      "[Noun Extractor] has been trained. #eojeols=1412, mem=0.517 Gb\n",
      "[Noun Extractor] batch prediction was completed for 396 words\n",
      "[Noun Extractor] checked compounds. discovered 6 compounds\n",
      "[Noun Extractor] postprocessing detaching_features : 88 -> 88\n",
      "[Noun Extractor] postprocessing ignore_features : 88 -> 84\n",
      "[Noun Extractor] postprocessing ignore_NJ : 84 -> 84\n",
      "[Noun Extractor] 84 nouns (6 compounds) with min frequency=1\n",
      "[Noun Extractor] flushing was done. mem=0.517 Gb                    \n",
      "[Noun Extractor] 41.29 % eojeols are covered\n"
     ]
    }
   ],
   "source": [
    "noun_4 = extract_noun_lst([per_problem_words(per_problem, 3)])"
   ]
  },
  {
   "cell_type": "code",
   "execution_count": 38,
   "id": "3673d9a4",
   "metadata": {},
   "outputs": [],
   "source": [
    "verb_4 = extract_verb_lst([per_problem_words(per_problem, 3)])"
   ]
  },
  {
   "cell_type": "code",
   "execution_count": 39,
   "id": "c412a0d6",
   "metadata": {},
   "outputs": [],
   "source": [
    "adj_5 = extract_adj_lst([per_problem_words(per_problem, 4)])"
   ]
  },
  {
   "cell_type": "code",
   "execution_count": 40,
   "id": "3e8f8849",
   "metadata": {},
   "outputs": [
    {
     "name": "stdout",
     "output_type": "stream",
     "text": [
      "[Noun Extractor] use default predictors\n",
      "[Noun Extractor] num features: pos=3929, neg=2321, common=107\n",
      "[Noun Extractor] counting eojeols\n",
      "[EojeolCounter] n eojeol = 366 from 1 sents. mem=0.509 Gb                    \n",
      "[Noun Extractor] complete eojeol counter -> lr graph\n",
      "[Noun Extractor] has been trained. #eojeols=457, mem=0.509 Gb\n",
      "[Noun Extractor] batch prediction was completed for 220 words\n",
      "[Noun Extractor] checked compounds. discovered 0 compounds\n",
      "[Noun Extractor] postprocessing detaching_features : 26 -> 26\n",
      "[Noun Extractor] postprocessing ignore_features : 26 -> 26\n",
      "[Noun Extractor] postprocessing ignore_NJ : 26 -> 26\n",
      "[Noun Extractor] 26 nouns (0 compounds) with min frequency=1\n",
      "[Noun Extractor] flushing was done. mem=0.509 Gb                    \n",
      "[Noun Extractor] 20.35 % eojeols are covered\n"
     ]
    }
   ],
   "source": [
    "noun_5 = extract_noun_lst([per_problem_words(per_problem, 4)])"
   ]
  },
  {
   "cell_type": "code",
   "execution_count": 41,
   "id": "c8b6aed8",
   "metadata": {},
   "outputs": [],
   "source": [
    "verb_5 = extract_verb_lst([per_problem_words(per_problem, 4)])"
   ]
  },
  {
   "cell_type": "code",
   "execution_count": 42,
   "id": "16063873",
   "metadata": {},
   "outputs": [],
   "source": [
    "adj_6 = extract_adj_lst([per_problem_words(per_problem, 5)])"
   ]
  },
  {
   "cell_type": "code",
   "execution_count": 43,
   "id": "6883ba8b",
   "metadata": {},
   "outputs": [
    {
     "name": "stdout",
     "output_type": "stream",
     "text": [
      "[Noun Extractor] use default predictors\n",
      "[Noun Extractor] num features: pos=3929, neg=2321, common=107\n",
      "[Noun Extractor] counting eojeols\n",
      "[EojeolCounter] n eojeol = 1521 from 41 sents. mem=0.509 Gb                    \n",
      "[Noun Extractor] complete eojeol counter -> lr graph\n",
      "[Noun Extractor] has been trained. #eojeols=2186, mem=0.509 Gb\n",
      "[Noun Extractor] batch prediction was completed for 690 words\n",
      "[Noun Extractor] checked compounds. discovered 9 compounds\n",
      "[Noun Extractor] postprocessing detaching_features : 210 -> 210\n",
      "[Noun Extractor] postprocessing ignore_features : 210 -> 201\n",
      "[Noun Extractor] postprocessing ignore_NJ : 201 -> 201\n",
      "[Noun Extractor] 201 nouns (9 compounds) with min frequency=1\n",
      "[Noun Extractor] flushing was done. mem=0.510 Gb                    \n",
      "[Noun Extractor] 41.58 % eojeols are covered\n"
     ]
    }
   ],
   "source": [
    "noun_6 = extract_noun_lst([per_problem_words(per_problem, 5)])"
   ]
  },
  {
   "cell_type": "code",
   "execution_count": 44,
   "id": "7667f5c7",
   "metadata": {},
   "outputs": [],
   "source": [
    "verb_6 = extract_verb_lst([per_problem_words(per_problem, 5)])"
   ]
  },
  {
   "cell_type": "code",
   "execution_count": 45,
   "id": "b496ef11",
   "metadata": {},
   "outputs": [],
   "source": [
    "def make_dataframe(new_df, adj, noun, verb, num, content):\n",
    "    for i in range(len(adj)):\n",
    "        adj = list(adj)\n",
    "        new_df.loc[i, '감정단어(형용사)'] = adj[i]\n",
    "    \n",
    "#     new_df = new_df.drop_duplicates(['감정단어(형용사)'], keep = 'first')\n",
    "    \n",
    "    for j in range(len(noun)):\n",
    "        noun = list(noun)\n",
    "        new_df.loc[j, '명사'] = noun[j]\n",
    "\n",
    "#     new_df = new_df.drop_duplicates(['명사'], keep = 'first')\n",
    "        \n",
    "    for k in range(len(verb)):\n",
    "        verb = list(verb)\n",
    "        new_df.loc[k, '동사'] = verb[k]\n",
    "        \n",
    "#     new_df = new_df.drop_duplicates(['동사'], keep = 'first')\n",
    "        \n",
    "    for i in range(len(new_df)):\n",
    "        new_df.loc[i, '문항'] = '%d번'%num\n",
    "        new_df.loc[i, '콘텐츠'] = '%s'%content\n",
    "        \n",
    "    return new_df"
   ]
  },
  {
   "cell_type": "code",
   "execution_count": 46,
   "id": "5b5853d5",
   "metadata": {},
   "outputs": [],
   "source": [
    "df_1 = make_dataframe(new_df_1, adj_1, noun_1, verb_1, 1, '뮤직비디오')"
   ]
  },
  {
   "cell_type": "code",
   "execution_count": 47,
   "id": "442cd4b8",
   "metadata": {},
   "outputs": [],
   "source": [
    "df_2 = make_dataframe(new_df_2, adj_2, noun_2, verb_2, 2, '뮤직비디오')"
   ]
  },
  {
   "cell_type": "code",
   "execution_count": 48,
   "id": "e1400346",
   "metadata": {},
   "outputs": [],
   "source": [
    "df_3 = make_dataframe(new_df_3, adj_3, noun_3, verb_3, 3, '뮤직비디오')"
   ]
  },
  {
   "cell_type": "code",
   "execution_count": 49,
   "id": "ecd9eaf8",
   "metadata": {},
   "outputs": [],
   "source": [
    "df_4 = make_dataframe(new_df_4, adj_4, noun_4, verb_4, 4, '뮤직비디오')"
   ]
  },
  {
   "cell_type": "code",
   "execution_count": 50,
   "id": "9c13d488",
   "metadata": {},
   "outputs": [],
   "source": [
    "df_5 = make_dataframe(new_df_5, adj_5, noun_5, verb_5, 5, '뮤직비디오')"
   ]
  },
  {
   "cell_type": "code",
   "execution_count": 51,
   "id": "a90dd51e",
   "metadata": {},
   "outputs": [],
   "source": [
    "df_6 = make_dataframe(new_df_6, adj_6, noun_6, verb_6, 6, '뮤직비디오')"
   ]
  },
  {
   "cell_type": "code",
   "execution_count": 52,
   "id": "3a8f20b6",
   "metadata": {},
   "outputs": [],
   "source": [
    "concated = pd.concat([df_1, df_2, df_3, df_4, df_5, df_6], ignore_index=True)"
   ]
  },
  {
   "cell_type": "code",
   "execution_count": 53,
   "id": "51c8db73",
   "metadata": {},
   "outputs": [],
   "source": [
    "# concated = concated.drop_duplicates(['명사'], keep = 'first')\n",
    "# concated"
   ]
  },
  {
   "cell_type": "code",
   "execution_count": 54,
   "id": "b1a72e4d",
   "metadata": {},
   "outputs": [],
   "source": [
    "# concated = concated.drop_duplicates(['감정단어(형용사)'], keep = 'first')\n",
    "# concated"
   ]
  },
  {
   "cell_type": "code",
   "execution_count": 55,
   "id": "b2c90970",
   "metadata": {},
   "outputs": [],
   "source": [
    "# concated = concated.drop_duplicates(['동사'], keep = 'first')\n",
    "# concated"
   ]
  },
  {
   "cell_type": "code",
   "execution_count": 56,
   "id": "a84c31c7",
   "metadata": {},
   "outputs": [
    {
     "data": {
      "text/html": [
       "<div>\n",
       "<style scoped>\n",
       "    .dataframe tbody tr th:only-of-type {\n",
       "        vertical-align: middle;\n",
       "    }\n",
       "\n",
       "    .dataframe tbody tr th {\n",
       "        vertical-align: top;\n",
       "    }\n",
       "\n",
       "    .dataframe thead th {\n",
       "        text-align: right;\n",
       "    }\n",
       "</style>\n",
       "<table border=\"1\" class=\"dataframe\">\n",
       "  <thead>\n",
       "    <tr style=\"text-align: right;\">\n",
       "      <th></th>\n",
       "      <th>문항</th>\n",
       "      <th>콘텐츠</th>\n",
       "      <th>명사</th>\n",
       "      <th>감정단어(형용사)</th>\n",
       "      <th>동사</th>\n",
       "    </tr>\n",
       "  </thead>\n",
       "  <tbody>\n",
       "    <tr>\n",
       "      <th>0</th>\n",
       "      <td>1번</td>\n",
       "      <td>뮤직비디오</td>\n",
       "      <td>사람</td>\n",
       "      <td>발랄하고</td>\n",
       "      <td>흔들리는</td>\n",
       "    </tr>\n",
       "    <tr>\n",
       "      <th>1</th>\n",
       "      <td>1번</td>\n",
       "      <td>뮤직비디오</td>\n",
       "      <td>산맥</td>\n",
       "      <td>멋있게</td>\n",
       "      <td>봤다가</td>\n",
       "    </tr>\n",
       "    <tr>\n",
       "      <th>2</th>\n",
       "      <td>1번</td>\n",
       "      <td>뮤직비디오</td>\n",
       "      <td>노래</td>\n",
       "      <td>아픈</td>\n",
       "      <td>지나간</td>\n",
       "    </tr>\n",
       "    <tr>\n",
       "      <th>3</th>\n",
       "      <td>1번</td>\n",
       "      <td>뮤직비디오</td>\n",
       "      <td>표현</td>\n",
       "      <td>변하고</td>\n",
       "      <td>젖어서</td>\n",
       "    </tr>\n",
       "    <tr>\n",
       "      <th>4</th>\n",
       "      <td>1번</td>\n",
       "      <td>뮤직비디오</td>\n",
       "      <td>자신</td>\n",
       "      <td>쓸쓸하고</td>\n",
       "      <td>뺏어</td>\n",
       "    </tr>\n",
       "    <tr>\n",
       "      <th>...</th>\n",
       "      <td>...</td>\n",
       "      <td>...</td>\n",
       "      <td>...</td>\n",
       "      <td>...</td>\n",
       "      <td>...</td>\n",
       "    </tr>\n",
       "    <tr>\n",
       "      <th>1270</th>\n",
       "      <td>6번</td>\n",
       "      <td>뮤직비디오</td>\n",
       "      <td>NaN</td>\n",
       "      <td>NaN</td>\n",
       "      <td>찡그린</td>\n",
       "    </tr>\n",
       "    <tr>\n",
       "      <th>1271</th>\n",
       "      <td>6번</td>\n",
       "      <td>뮤직비디오</td>\n",
       "      <td>NaN</td>\n",
       "      <td>NaN</td>\n",
       "      <td>어울린다</td>\n",
       "    </tr>\n",
       "    <tr>\n",
       "      <th>1272</th>\n",
       "      <td>6번</td>\n",
       "      <td>뮤직비디오</td>\n",
       "      <td>NaN</td>\n",
       "      <td>NaN</td>\n",
       "      <td>밝게</td>\n",
       "    </tr>\n",
       "    <tr>\n",
       "      <th>1273</th>\n",
       "      <td>6번</td>\n",
       "      <td>뮤직비디오</td>\n",
       "      <td>NaN</td>\n",
       "      <td>NaN</td>\n",
       "      <td>돌아보는</td>\n",
       "    </tr>\n",
       "    <tr>\n",
       "      <th>1274</th>\n",
       "      <td>6번</td>\n",
       "      <td>뮤직비디오</td>\n",
       "      <td>NaN</td>\n",
       "      <td>NaN</td>\n",
       "      <td>해서</td>\n",
       "    </tr>\n",
       "  </tbody>\n",
       "</table>\n",
       "<p>1275 rows × 5 columns</p>\n",
       "</div>"
      ],
      "text/plain": [
       "      문항    콘텐츠   명사 감정단어(형용사)    동사\n",
       "0     1번  뮤직비디오   사람      발랄하고  흔들리는\n",
       "1     1번  뮤직비디오   산맥       멋있게   봤다가\n",
       "2     1번  뮤직비디오   노래        아픈   지나간\n",
       "3     1번  뮤직비디오   표현       변하고   젖어서\n",
       "4     1번  뮤직비디오   자신      쓸쓸하고    뺏어\n",
       "...   ..    ...  ...       ...   ...\n",
       "1270  6번  뮤직비디오  NaN       NaN   찡그린\n",
       "1271  6번  뮤직비디오  NaN       NaN  어울린다\n",
       "1272  6번  뮤직비디오  NaN       NaN    밝게\n",
       "1273  6번  뮤직비디오  NaN       NaN  돌아보는\n",
       "1274  6번  뮤직비디오  NaN       NaN    해서\n",
       "\n",
       "[1275 rows x 5 columns]"
      ]
     },
     "execution_count": 56,
     "metadata": {},
     "output_type": "execute_result"
    }
   ],
   "source": [
    "concated['명사'] = concated['명사'].str.replace('\"', '')\n",
    "concated['명사'] = concated['명사'].str.replace('/', '')\n",
    "concated['명사'] = concated['명사'].str.replace('있다', '')\n",
    "concated['명사'] = concated['명사'].str.replace('같다', '')\n",
    "concated['명사'] = concated['명사'].str.replace('모르겠다', '')\n",
    "concated['명사'] = concated['명사'].replace('떠오른다', '')\n",
    "concated"
   ]
  },
  {
   "cell_type": "code",
   "execution_count": 57,
   "id": "ab6e634b",
   "metadata": {},
   "outputs": [],
   "source": [
    "concated.to_excel('musicvideo_dict.xlsx')"
   ]
  },
  {
   "cell_type": "code",
   "execution_count": null,
   "id": "b892616a",
   "metadata": {},
   "outputs": [],
   "source": []
  }
 ],
 "metadata": {
  "kernelspec": {
   "display_name": "Python 3",
   "language": "python",
   "name": "python3"
  },
  "language_info": {
   "codemirror_mode": {
    "name": "ipython",
    "version": 3
   },
   "file_extension": ".py",
   "mimetype": "text/x-python",
   "name": "python",
   "nbconvert_exporter": "python",
   "pygments_lexer": "ipython3",
   "version": "3.6.13"
  }
 },
 "nbformat": 4,
 "nbformat_minor": 5
}
