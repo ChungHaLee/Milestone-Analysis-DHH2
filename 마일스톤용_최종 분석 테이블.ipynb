{
 "cells": [
  {
   "cell_type": "code",
   "execution_count": 1,
   "id": "5f9846a1",
   "metadata": {},
   "outputs": [],
   "source": [
    "import pandas as pd"
   ]
  },
  {
   "cell_type": "markdown",
   "id": "d531bd4d",
   "metadata": {},
   "source": [
    "# 데이터 불러오기"
   ]
  },
  {
   "cell_type": "markdown",
   "id": "cca5f69f",
   "metadata": {},
   "source": [
    "## 음악"
   ]
  },
  {
   "cell_type": "code",
   "execution_count": 2,
   "id": "b74a4ee6",
   "metadata": {},
   "outputs": [],
   "source": [
    "music_one = pd.read_excel('/Users/lifeofpy/Desktop/data by contents_milestone/음악/one_music.xlsx')\n",
    "music_two = pd.read_excel('/Users/lifeofpy/Desktop/data by contents_milestone/음악/two_music.xlsx')\n",
    "music_three = pd.read_excel('/Users/lifeofpy/Desktop/data by contents_milestone/음악/three_music.xlsx')\n",
    "music_four = pd.read_excel('/Users/lifeofpy/Desktop/data by contents_milestone/음악/four_music.xlsx')\n",
    "music_five = pd.read_excel('/Users/lifeofpy/Desktop/data by contents_milestone/음악/five_music.xlsx')\n",
    "music_six = pd.read_excel('/Users/lifeofpy/Desktop/data by contents_milestone/음악/six_music.xlsx')"
   ]
  },
  {
   "cell_type": "markdown",
   "id": "ed70eb27",
   "metadata": {},
   "source": [
    "## 댄스"
   ]
  },
  {
   "cell_type": "code",
   "execution_count": 3,
   "id": "fce57bf2",
   "metadata": {},
   "outputs": [],
   "source": [
    "dance_one = pd.read_excel('/Users/lifeofpy/Desktop/data by contents_milestone/댄스/one_dance.xlsx')\n",
    "dance_two = pd.read_excel('/Users/lifeofpy/Desktop/data by contents_milestone/댄스/two_dance.xlsx')\n",
    "dance_three = pd.read_excel('/Users/lifeofpy/Desktop/data by contents_milestone/댄스/three_dance.xlsx')\n",
    "dance_four = pd.read_excel('/Users/lifeofpy/Desktop/data by contents_milestone/댄스/four_dance.xlsx')\n",
    "dance_five = pd.read_excel('/Users/lifeofpy/Desktop/data by contents_milestone/댄스/five_dance.xlsx')\n",
    "dance_six = pd.read_excel('/Users/lifeofpy/Desktop/data by contents_milestone/댄스/six_dance.xlsx')"
   ]
  },
  {
   "cell_type": "markdown",
   "id": "8d3406d4",
   "metadata": {},
   "source": [
    "## 시각자료 4종"
   ]
  },
  {
   "cell_type": "code",
   "execution_count": 4,
   "id": "1eba4219",
   "metadata": {},
   "outputs": [],
   "source": [
    "visuo_one = pd.read_excel('/Users/lifeofpy/Desktop/data by contents_milestone/시각/one_visuo.xlsx')\n",
    "visuo_two = pd.read_excel('/Users/lifeofpy/Desktop/data by contents_milestone/시각/two_visuo.xlsx')\n",
    "visuo_three = pd.read_excel('/Users/lifeofpy/Desktop/data by contents_milestone/시각/three_visuo.xlsx')\n",
    "visuo_four = pd.read_excel('/Users/lifeofpy/Desktop/data by contents_milestone/시각/four_visuo.xlsx')\n",
    "visuo_five = pd.read_excel('/Users/lifeofpy/Desktop/data by contents_milestone/시각/five_visuo.xlsx')\n",
    "visuo_six = pd.read_excel('/Users/lifeofpy/Desktop/data by contents_milestone/시각/six_visuo.xlsx')"
   ]
  },
  {
   "cell_type": "markdown",
   "id": "95e933fc",
   "metadata": {},
   "source": [
    "# 콘텐츠 모달리티, 문항별 단어 빈도"
   ]
  },
  {
   "cell_type": "code",
   "execution_count": 5,
   "id": "5bcd0894",
   "metadata": {},
   "outputs": [],
   "source": [
    "def word_count_from_dataframe(df):\n",
    "    \n",
    "    df = df.iloc[:, 1:]\n",
    "    df = df.fillna('-')\n",
    "    \n",
    "    emo_words_lst = set(df['감정단어'].tolist())\n",
    "    scene_lst = set(df['장면'].tolist())\n",
    "    move_lst = set(df['움직임관련'].tolist())\n",
    "    sound_lst = set(df['소리관련'].tolist())\n",
    "    metaphor_lst = set(df['메타포(비유)'].tolist())\n",
    "    visuo_lst = set(df['시각적특징'].tolist())\n",
    "    pronoun_lst = set(df['대명사'].tolist())\n",
    "    person_lst = set(df['사람관계'].tolist())\n",
    "    etc_lst = set(df['기타'].tolist())\n",
    "    confuse_lst = set(df['헷갈리는거'].tolist())\n",
    "    \n",
    "    return len(emo_words_lst)-1, len(scene_lst)-1, len(move_lst)-1, len(sound_lst)-1, len(metaphor_lst)-1, len(visuo_lst)-1, len(pronoun_lst)-1, len(person_lst)-1, len(etc_lst)+len(confuse_lst)-2"
   ]
  },
  {
   "cell_type": "markdown",
   "id": "fa9a5cc7",
   "metadata": {},
   "source": [
    "### 음악 1번"
   ]
  },
  {
   "cell_type": "code",
   "execution_count": 6,
   "id": "40bec686",
   "metadata": {},
   "outputs": [
    {
     "data": {
      "text/plain": [
       "(262, 207, 525, 257, 8, 187, 4, 19, 223)"
      ]
     },
     "execution_count": 6,
     "metadata": {},
     "output_type": "execute_result"
    }
   ],
   "source": [
    "music_one = word_count_from_dataframe(music_one)\n",
    "music_one"
   ]
  },
  {
   "cell_type": "markdown",
   "id": "c8571499",
   "metadata": {},
   "source": [
    "### 음악 2번"
   ]
  },
  {
   "cell_type": "code",
   "execution_count": 7,
   "id": "85e63181",
   "metadata": {},
   "outputs": [
    {
     "data": {
      "text/plain": [
       "(93, 121, 146, 80, 4, 16, 8, 16, 409)"
      ]
     },
     "execution_count": 7,
     "metadata": {},
     "output_type": "execute_result"
    }
   ],
   "source": [
    "music_two = word_count_from_dataframe(music_two)\n",
    "music_two"
   ]
  },
  {
   "cell_type": "markdown",
   "id": "95464298",
   "metadata": {},
   "source": [
    "### 음악 3번"
   ]
  },
  {
   "cell_type": "code",
   "execution_count": 8,
   "id": "4bdf880d",
   "metadata": {},
   "outputs": [
    {
     "data": {
      "text/plain": [
       "(292, 249, 805, 53, 5, 70, 12, 58, 755)"
      ]
     },
     "execution_count": 8,
     "metadata": {},
     "output_type": "execute_result"
    }
   ],
   "source": [
    "music_three = word_count_from_dataframe(music_three)\n",
    "music_three"
   ]
  },
  {
   "cell_type": "markdown",
   "id": "a648eb18",
   "metadata": {},
   "source": [
    "### 음악 4번"
   ]
  },
  {
   "cell_type": "code",
   "execution_count": 9,
   "id": "61c05487",
   "metadata": {},
   "outputs": [
    {
     "data": {
      "text/plain": [
       "(192, 134, 756, 32, 4, 124, 10, 15, 402)"
      ]
     },
     "execution_count": 9,
     "metadata": {},
     "output_type": "execute_result"
    }
   ],
   "source": [
    "music_four = word_count_from_dataframe(music_four)\n",
    "music_four"
   ]
  },
  {
   "cell_type": "markdown",
   "id": "0345e523",
   "metadata": {},
   "source": [
    "### 음악 5번"
   ]
  },
  {
   "cell_type": "code",
   "execution_count": 10,
   "id": "5689b611",
   "metadata": {},
   "outputs": [
    {
     "data": {
      "text/plain": [
       "(109, 13, 128, 36, 24, 37, 3, 7, 107)"
      ]
     },
     "execution_count": 10,
     "metadata": {},
     "output_type": "execute_result"
    }
   ],
   "source": [
    "music_five = word_count_from_dataframe(music_five)\n",
    "music_five"
   ]
  },
  {
   "cell_type": "markdown",
   "id": "0f0e61e9",
   "metadata": {},
   "source": [
    "### 음악 6번"
   ]
  },
  {
   "cell_type": "code",
   "execution_count": 11,
   "id": "c07c3f54",
   "metadata": {},
   "outputs": [
    {
     "data": {
      "text/plain": [
       "(249, 28, 468, 249, 22, 185, 7, 18, 300)"
      ]
     },
     "execution_count": 11,
     "metadata": {},
     "output_type": "execute_result"
    }
   ],
   "source": [
    "music_six = word_count_from_dataframe(music_six)\n",
    "music_six"
   ]
  },
  {
   "cell_type": "markdown",
   "id": "a19e1151",
   "metadata": {},
   "source": [
    "### 댄스 1번"
   ]
  },
  {
   "cell_type": "code",
   "execution_count": 12,
   "id": "1e1d7695",
   "metadata": {},
   "outputs": [
    {
     "data": {
      "text/plain": [
       "(69, 186, 246, 61, 5, 112, 3, 5, 96)"
      ]
     },
     "execution_count": 12,
     "metadata": {},
     "output_type": "execute_result"
    }
   ],
   "source": [
    "dance_one = word_count_from_dataframe(dance_one)\n",
    "dance_one"
   ]
  },
  {
   "cell_type": "markdown",
   "id": "516de70c",
   "metadata": {},
   "source": [
    "### 댄스 2번"
   ]
  },
  {
   "cell_type": "code",
   "execution_count": 13,
   "id": "16e8015b",
   "metadata": {},
   "outputs": [
    {
     "data": {
      "text/plain": [
       "(19, 30, 127, 9, 1, 4, 1, 6, 174)"
      ]
     },
     "execution_count": 13,
     "metadata": {},
     "output_type": "execute_result"
    }
   ],
   "source": [
    "dance_two = word_count_from_dataframe(dance_two)\n",
    "dance_two"
   ]
  },
  {
   "cell_type": "markdown",
   "id": "ae41af32",
   "metadata": {},
   "source": [
    "### 댄스 3번"
   ]
  },
  {
   "cell_type": "code",
   "execution_count": 14,
   "id": "15e28a99",
   "metadata": {},
   "outputs": [
    {
     "data": {
      "text/plain": [
       "(105, 55, 163, 180, 4, 51, 6, 36, 282)"
      ]
     },
     "execution_count": 14,
     "metadata": {},
     "output_type": "execute_result"
    }
   ],
   "source": [
    "dance_three = word_count_from_dataframe(dance_three)\n",
    "dance_three"
   ]
  },
  {
   "cell_type": "markdown",
   "id": "173ef648",
   "metadata": {},
   "source": [
    "### 댄스 4번"
   ]
  },
  {
   "cell_type": "code",
   "execution_count": 15,
   "id": "69b07149",
   "metadata": {},
   "outputs": [
    {
     "data": {
      "text/plain": [
       "(74, 10, 113, 58, 3, 44, 2, 5, 137)"
      ]
     },
     "execution_count": 15,
     "metadata": {},
     "output_type": "execute_result"
    }
   ],
   "source": [
    "dance_four = word_count_from_dataframe(dance_four)\n",
    "dance_four"
   ]
  },
  {
   "cell_type": "markdown",
   "id": "7f9bf197",
   "metadata": {},
   "source": [
    "### 댄스 5번"
   ]
  },
  {
   "cell_type": "code",
   "execution_count": 16,
   "id": "ba65e62f",
   "metadata": {},
   "outputs": [
    {
     "data": {
      "text/plain": [
       "(46, 5, 62, 7, 6, 25, 3, 7, 56)"
      ]
     },
     "execution_count": 16,
     "metadata": {},
     "output_type": "execute_result"
    }
   ],
   "source": [
    "dance_five = word_count_from_dataframe(dance_five)\n",
    "dance_five"
   ]
  },
  {
   "cell_type": "markdown",
   "id": "a6238a0b",
   "metadata": {},
   "source": [
    "### 댄스 6번"
   ]
  },
  {
   "cell_type": "code",
   "execution_count": 17,
   "id": "c5e1cea2",
   "metadata": {},
   "outputs": [
    {
     "data": {
      "text/plain": [
       "(65, 48, 356, 107, 1, 116, 1, 5, 132)"
      ]
     },
     "execution_count": 17,
     "metadata": {},
     "output_type": "execute_result"
    }
   ],
   "source": [
    "dance_six = word_count_from_dataframe(dance_six)\n",
    "dance_six"
   ]
  },
  {
   "cell_type": "markdown",
   "id": "d8c2611e",
   "metadata": {},
   "source": [
    "### 시각자료 1번"
   ]
  },
  {
   "cell_type": "code",
   "execution_count": 18,
   "id": "b74aa509",
   "metadata": {},
   "outputs": [
    {
     "data": {
      "text/plain": [
       "(273, 53, 548, 22, 0, 47, 7, 29, 649)"
      ]
     },
     "execution_count": 18,
     "metadata": {},
     "output_type": "execute_result"
    }
   ],
   "source": [
    "visuo_one = word_count_from_dataframe(visuo_one)\n",
    "visuo_one"
   ]
  },
  {
   "cell_type": "markdown",
   "id": "e8392ea0",
   "metadata": {},
   "source": [
    "### 시각자료 2번"
   ]
  },
  {
   "cell_type": "code",
   "execution_count": 19,
   "id": "b3a6c4b3",
   "metadata": {},
   "outputs": [
    {
     "data": {
      "text/plain": [
       "(142, 108, 186, 10, 3, 15, 7, 24, 294)"
      ]
     },
     "execution_count": 19,
     "metadata": {},
     "output_type": "execute_result"
    }
   ],
   "source": [
    "visuo_two = word_count_from_dataframe(visuo_two)\n",
    "visuo_two"
   ]
  },
  {
   "cell_type": "markdown",
   "id": "8fceaee9",
   "metadata": {},
   "source": [
    "### 시각자료 3번"
   ]
  },
  {
   "cell_type": "code",
   "execution_count": 20,
   "id": "a28eb4ac",
   "metadata": {},
   "outputs": [
    {
     "data": {
      "text/plain": [
       "(370, 121, 868, 43, 13, 116, 12, 52, 591)"
      ]
     },
     "execution_count": 20,
     "metadata": {},
     "output_type": "execute_result"
    }
   ],
   "source": [
    "visuo_three = word_count_from_dataframe(visuo_three)\n",
    "visuo_three"
   ]
  },
  {
   "cell_type": "markdown",
   "id": "5620bfce",
   "metadata": {},
   "source": [
    "### 시각자료 4번"
   ]
  },
  {
   "cell_type": "code",
   "execution_count": 21,
   "id": "a6402ba0",
   "metadata": {},
   "outputs": [
    {
     "data": {
      "text/plain": [
       "(204, 16, 254, 144, 6, 90, 1, 8, 263)"
      ]
     },
     "execution_count": 21,
     "metadata": {},
     "output_type": "execute_result"
    }
   ],
   "source": [
    "visuo_four = word_count_from_dataframe(visuo_four)\n",
    "visuo_four"
   ]
  },
  {
   "cell_type": "markdown",
   "id": "e63ec5fb",
   "metadata": {},
   "source": [
    "### 시각자료 5번"
   ]
  },
  {
   "cell_type": "code",
   "execution_count": 22,
   "id": "7da46fd0",
   "metadata": {},
   "outputs": [
    {
     "data": {
      "text/plain": [
       "(145, 15, 116, 9, 30, 39, 1, 4, 72)"
      ]
     },
     "execution_count": 22,
     "metadata": {},
     "output_type": "execute_result"
    }
   ],
   "source": [
    "visuo_five = word_count_from_dataframe(visuo_five)\n",
    "visuo_five"
   ]
  },
  {
   "cell_type": "markdown",
   "id": "cd1cb91e",
   "metadata": {},
   "source": [
    "### 시각자료 6번"
   ]
  },
  {
   "cell_type": "code",
   "execution_count": 23,
   "id": "f01b0c9b",
   "metadata": {},
   "outputs": [
    {
     "data": {
      "text/plain": [
       "(207, 309, 632, 237, 7, 276, 9, 28, 223)"
      ]
     },
     "execution_count": 23,
     "metadata": {},
     "output_type": "execute_result"
    }
   ],
   "source": [
    "visuo_six = word_count_from_dataframe(visuo_six)\n",
    "visuo_six"
   ]
  },
  {
   "cell_type": "markdown",
   "id": "d935537d",
   "metadata": {},
   "source": [
    "# 콘텐츠 모달리티별 비율 구하기"
   ]
  },
  {
   "cell_type": "code",
   "execution_count": 24,
   "id": "3cb71fe7",
   "metadata": {},
   "outputs": [],
   "source": [
    "def make_ratio(counts):\n",
    "    ratio_emotion = round((counts[0] / sum(counts)) * 100, 2)\n",
    "    ratio_scene = round((counts[1] / sum(counts)) * 100, 2)\n",
    "    ratio_move = round((counts[2] / sum(counts)) * 100, 2)\n",
    "    ratio_sound = round((counts[3] / sum(counts)) * 100, 2)\n",
    "    ratio_metaphor = round((counts[4] / sum(counts)) * 100, 2)\n",
    "    ratio_visuo = round((counts[5] / sum(counts)) * 100, 2)\n",
    "    ratio_pronoun = round((counts[6] / sum(counts)) * 100, 2)\n",
    "    ratio_person = round((counts[7] / sum(counts)) * 100, 2)\n",
    "    ratio_etc = round((counts[8] / sum(counts)) * 100, 2)\n",
    "    \n",
    "    return ratio_emotion, ratio_scene, ratio_move, ratio_sound, ratio_metaphor, ratio_visuo, ratio_pronoun, ratio_person, ratio_etc"
   ]
  },
  {
   "cell_type": "markdown",
   "id": "14ea3439",
   "metadata": {},
   "source": [
    "### 음악"
   ]
  },
  {
   "cell_type": "code",
   "execution_count": 25,
   "id": "580f71f5",
   "metadata": {},
   "outputs": [
    {
     "data": {
      "text/plain": [
       "(15.48, 12.23, 31.03, 15.19, 0.47, 11.05, 0.24, 1.12, 13.18)"
      ]
     },
     "execution_count": 25,
     "metadata": {},
     "output_type": "execute_result"
    }
   ],
   "source": [
    "make_ratio(music_one)"
   ]
  },
  {
   "cell_type": "code",
   "execution_count": 26,
   "id": "e02b9cd0",
   "metadata": {},
   "outputs": [
    {
     "data": {
      "text/plain": [
       "(10.41, 13.55, 16.35, 8.96, 0.45, 1.79, 0.9, 1.79, 45.8)"
      ]
     },
     "execution_count": 26,
     "metadata": {},
     "output_type": "execute_result"
    }
   ],
   "source": [
    "make_ratio(music_two)"
   ]
  },
  {
   "cell_type": "code",
   "execution_count": 27,
   "id": "2b1ba046",
   "metadata": {},
   "outputs": [
    {
     "data": {
      "text/plain": [
       "(12.7, 10.83, 35.02, 2.31, 0.22, 3.04, 0.52, 2.52, 32.84)"
      ]
     },
     "execution_count": 27,
     "metadata": {},
     "output_type": "execute_result"
    }
   ],
   "source": [
    "make_ratio(music_three)"
   ]
  },
  {
   "cell_type": "code",
   "execution_count": 28,
   "id": "6145e6f2",
   "metadata": {},
   "outputs": [
    {
     "data": {
      "text/plain": [
       "(11.5, 8.03, 45.3, 1.92, 0.24, 7.43, 0.6, 0.9, 24.09)"
      ]
     },
     "execution_count": 28,
     "metadata": {},
     "output_type": "execute_result"
    }
   ],
   "source": [
    "make_ratio(music_four)"
   ]
  },
  {
   "cell_type": "code",
   "execution_count": 29,
   "id": "a3303803",
   "metadata": {},
   "outputs": [
    {
     "data": {
      "text/plain": [
       "(23.49, 2.8, 27.59, 7.76, 5.17, 7.97, 0.65, 1.51, 23.06)"
      ]
     },
     "execution_count": 29,
     "metadata": {},
     "output_type": "execute_result"
    }
   ],
   "source": [
    "make_ratio(music_five)"
   ]
  },
  {
   "cell_type": "code",
   "execution_count": 30,
   "id": "093d3f38",
   "metadata": {},
   "outputs": [
    {
     "data": {
      "text/plain": [
       "(16.32, 1.83, 30.67, 16.32, 1.44, 12.12, 0.46, 1.18, 19.66)"
      ]
     },
     "execution_count": 30,
     "metadata": {},
     "output_type": "execute_result"
    }
   ],
   "source": [
    "make_ratio(music_six)"
   ]
  },
  {
   "cell_type": "markdown",
   "id": "3af8c981",
   "metadata": {},
   "source": [
    "### 댄스"
   ]
  },
  {
   "cell_type": "code",
   "execution_count": 31,
   "id": "998d56de",
   "metadata": {},
   "outputs": [
    {
     "data": {
      "text/plain": [
       "(8.81, 23.75, 31.42, 7.79, 0.64, 14.3, 0.38, 0.64, 12.26)"
      ]
     },
     "execution_count": 31,
     "metadata": {},
     "output_type": "execute_result"
    }
   ],
   "source": [
    "make_ratio(dance_one)"
   ]
  },
  {
   "cell_type": "code",
   "execution_count": 32,
   "id": "26679717",
   "metadata": {},
   "outputs": [
    {
     "data": {
      "text/plain": [
       "(5.12, 8.09, 34.23, 2.43, 0.27, 1.08, 0.27, 1.62, 46.9)"
      ]
     },
     "execution_count": 32,
     "metadata": {},
     "output_type": "execute_result"
    }
   ],
   "source": [
    "make_ratio(dance_two)"
   ]
  },
  {
   "cell_type": "code",
   "execution_count": 33,
   "id": "d750da7c",
   "metadata": {},
   "outputs": [
    {
     "data": {
      "text/plain": [
       "(11.9, 6.24, 18.48, 20.41, 0.45, 5.78, 0.68, 4.08, 31.97)"
      ]
     },
     "execution_count": 33,
     "metadata": {},
     "output_type": "execute_result"
    }
   ],
   "source": [
    "make_ratio(dance_three)"
   ]
  },
  {
   "cell_type": "code",
   "execution_count": 34,
   "id": "745988fc",
   "metadata": {},
   "outputs": [
    {
     "data": {
      "text/plain": [
       "(16.59, 2.24, 25.34, 13.0, 0.67, 9.87, 0.45, 1.12, 30.72)"
      ]
     },
     "execution_count": 34,
     "metadata": {},
     "output_type": "execute_result"
    }
   ],
   "source": [
    "make_ratio(dance_four)"
   ]
  },
  {
   "cell_type": "code",
   "execution_count": 35,
   "id": "49ba2670",
   "metadata": {},
   "outputs": [
    {
     "data": {
      "text/plain": [
       "(21.2, 2.3, 28.57, 3.23, 2.76, 11.52, 1.38, 3.23, 25.81)"
      ]
     },
     "execution_count": 35,
     "metadata": {},
     "output_type": "execute_result"
    }
   ],
   "source": [
    "make_ratio(dance_five)"
   ]
  },
  {
   "cell_type": "code",
   "execution_count": 36,
   "id": "a368a6fe",
   "metadata": {},
   "outputs": [
    {
     "data": {
      "text/plain": [
       "(7.82, 5.78, 42.84, 12.88, 0.12, 13.96, 0.12, 0.6, 15.88)"
      ]
     },
     "execution_count": 36,
     "metadata": {},
     "output_type": "execute_result"
    }
   ],
   "source": [
    "make_ratio(dance_six)"
   ]
  },
  {
   "cell_type": "markdown",
   "id": "eca55706",
   "metadata": {},
   "source": [
    "### 시각"
   ]
  },
  {
   "cell_type": "code",
   "execution_count": 37,
   "id": "f65dc45b",
   "metadata": {},
   "outputs": [
    {
     "data": {
      "text/plain": [
       "(16.77, 3.26, 33.66, 1.35, 0.0, 2.89, 0.43, 1.78, 39.86)"
      ]
     },
     "execution_count": 37,
     "metadata": {},
     "output_type": "execute_result"
    }
   ],
   "source": [
    "make_ratio(visuo_one)"
   ]
  },
  {
   "cell_type": "code",
   "execution_count": 38,
   "id": "6890fa11",
   "metadata": {},
   "outputs": [
    {
     "data": {
      "text/plain": [
       "(18.0, 13.69, 23.57, 1.27, 0.38, 1.9, 0.89, 3.04, 37.26)"
      ]
     },
     "execution_count": 38,
     "metadata": {},
     "output_type": "execute_result"
    }
   ],
   "source": [
    "make_ratio(visuo_two)"
   ]
  },
  {
   "cell_type": "code",
   "execution_count": 39,
   "id": "0440a448",
   "metadata": {},
   "outputs": [
    {
     "data": {
      "text/plain": [
       "(16.93, 5.54, 39.71, 1.97, 0.59, 5.31, 0.55, 2.38, 27.04)"
      ]
     },
     "execution_count": 39,
     "metadata": {},
     "output_type": "execute_result"
    }
   ],
   "source": [
    "make_ratio(visuo_three)"
   ]
  },
  {
   "cell_type": "code",
   "execution_count": 40,
   "id": "173bc7fb",
   "metadata": {},
   "outputs": [
    {
     "data": {
      "text/plain": [
       "(20.69, 1.62, 25.76, 14.6, 0.61, 9.13, 0.1, 0.81, 26.67)"
      ]
     },
     "execution_count": 40,
     "metadata": {},
     "output_type": "execute_result"
    }
   ],
   "source": [
    "make_ratio(visuo_four)"
   ]
  },
  {
   "cell_type": "code",
   "execution_count": 41,
   "id": "05daae72",
   "metadata": {},
   "outputs": [
    {
     "data": {
      "text/plain": [
       "(33.64, 3.48, 26.91, 2.09, 6.96, 9.05, 0.23, 0.93, 16.71)"
      ]
     },
     "execution_count": 41,
     "metadata": {},
     "output_type": "execute_result"
    }
   ],
   "source": [
    "make_ratio(visuo_five)"
   ]
  },
  {
   "cell_type": "code",
   "execution_count": 42,
   "id": "266ee359",
   "metadata": {},
   "outputs": [
    {
     "data": {
      "text/plain": [
       "(10.74, 16.03, 32.78, 12.29, 0.36, 14.32, 0.47, 1.45, 11.57)"
      ]
     },
     "execution_count": 42,
     "metadata": {},
     "output_type": "execute_result"
    }
   ],
   "source": [
    "make_ratio(visuo_six)"
   ]
  },
  {
   "cell_type": "code",
   "execution_count": null,
   "id": "8683055b",
   "metadata": {},
   "outputs": [],
   "source": []
  }
 ],
 "metadata": {
  "kernelspec": {
   "display_name": "Python 3",
   "language": "python",
   "name": "python3"
  },
  "language_info": {
   "codemirror_mode": {
    "name": "ipython",
    "version": 3
   },
   "file_extension": ".py",
   "mimetype": "text/x-python",
   "name": "python",
   "nbconvert_exporter": "python",
   "pygments_lexer": "ipython3",
   "version": "3.6.13"
  }
 },
 "nbformat": 4,
 "nbformat_minor": 5
}
