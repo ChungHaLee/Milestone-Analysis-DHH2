{
 "cells": [
  {
   "cell_type": "code",
   "execution_count": 1,
   "id": "4047e59f",
   "metadata": {},
   "outputs": [],
   "source": [
    "import pandas as pd"
   ]
  },
  {
   "cell_type": "markdown",
   "id": "1ab387b9",
   "metadata": {},
   "source": [
    "### 모달리티별 감정단어가 있는 데이터프레임 불러오기"
   ]
  },
  {
   "cell_type": "code",
   "execution_count": 2,
   "id": "320e3deb",
   "metadata": {},
   "outputs": [],
   "source": [
    "dance = pd.read_excel('/Users/lifeofpy/Desktop/Emotional Dictionary/dance_dict.xlsx')"
   ]
  },
  {
   "cell_type": "code",
   "execution_count": 3,
   "id": "3af2e243",
   "metadata": {},
   "outputs": [],
   "source": [
    "face = pd.read_excel('/Users/lifeofpy/Desktop/Emotional Dictionary/face_dict.xlsx')"
   ]
  },
  {
   "cell_type": "code",
   "execution_count": 4,
   "id": "58570c9a",
   "metadata": {},
   "outputs": [],
   "source": [
    "music = pd.read_excel('/Users/lifeofpy/Desktop/Emotional Dictionary/music_dict.xlsx')"
   ]
  },
  {
   "cell_type": "code",
   "execution_count": 5,
   "id": "1f8bc2ce",
   "metadata": {},
   "outputs": [],
   "source": [
    "movie = pd.read_excel('/Users/lifeofpy/Desktop/Emotional Dictionary/movie_dict.xlsx')"
   ]
  },
  {
   "cell_type": "code",
   "execution_count": 6,
   "id": "92aa1429",
   "metadata": {},
   "outputs": [],
   "source": [
    "music_video = pd.read_excel('/Users/lifeofpy/Desktop/Emotional Dictionary/musicvideo_dict.xlsx')"
   ]
  },
  {
   "cell_type": "code",
   "execution_count": 7,
   "id": "2ff2fd20",
   "metadata": {},
   "outputs": [],
   "source": [
    "visualization = pd.read_excel('/Users/lifeofpy/Desktop/Emotional Dictionary/visualization_dict.xlsx')"
   ]
  },
  {
   "cell_type": "code",
   "execution_count": 8,
   "id": "97ea7830",
   "metadata": {},
   "outputs": [
    {
     "data": {
      "text/html": [
       "<div>\n",
       "<style scoped>\n",
       "    .dataframe tbody tr th:only-of-type {\n",
       "        vertical-align: middle;\n",
       "    }\n",
       "\n",
       "    .dataframe tbody tr th {\n",
       "        vertical-align: top;\n",
       "    }\n",
       "\n",
       "    .dataframe thead th {\n",
       "        text-align: right;\n",
       "    }\n",
       "</style>\n",
       "<table border=\"1\" class=\"dataframe\">\n",
       "  <thead>\n",
       "    <tr style=\"text-align: right;\">\n",
       "      <th></th>\n",
       "      <th>문항</th>\n",
       "      <th>콘텐츠</th>\n",
       "      <th>명사</th>\n",
       "      <th>감정단어(형용사)</th>\n",
       "      <th>동사</th>\n",
       "    </tr>\n",
       "  </thead>\n",
       "  <tbody>\n",
       "    <tr>\n",
       "      <th>0</th>\n",
       "      <td>1번</td>\n",
       "      <td>표정</td>\n",
       "      <td>파리</td>\n",
       "      <td>짓궂다</td>\n",
       "      <td>겪었거나</td>\n",
       "    </tr>\n",
       "    <tr>\n",
       "      <th>1</th>\n",
       "      <td>1번</td>\n",
       "      <td>표정</td>\n",
       "      <td>전화</td>\n",
       "      <td>흐뭇해</td>\n",
       "      <td>놀라는</td>\n",
       "    </tr>\n",
       "    <tr>\n",
       "      <th>2</th>\n",
       "      <td>1번</td>\n",
       "      <td>표정</td>\n",
       "      <td>생각</td>\n",
       "      <td>귀여운</td>\n",
       "      <td>울고있다</td>\n",
       "    </tr>\n",
       "    <tr>\n",
       "      <th>3</th>\n",
       "      <td>1번</td>\n",
       "      <td>표정</td>\n",
       "      <td>당첨</td>\n",
       "      <td>흐뭇해하는</td>\n",
       "      <td>만나고</td>\n",
       "    </tr>\n",
       "    <tr>\n",
       "      <th>4</th>\n",
       "      <td>1번</td>\n",
       "      <td>표정</td>\n",
       "      <td>정장</td>\n",
       "      <td>행복하게</td>\n",
       "      <td>입은</td>\n",
       "    </tr>\n",
       "    <tr>\n",
       "      <th>...</th>\n",
       "      <td>...</td>\n",
       "      <td>...</td>\n",
       "      <td>...</td>\n",
       "      <td>...</td>\n",
       "      <td>...</td>\n",
       "    </tr>\n",
       "    <tr>\n",
       "      <th>5137</th>\n",
       "      <td>6번</td>\n",
       "      <td>시각화</td>\n",
       "      <td>NaN</td>\n",
       "      <td>NaN</td>\n",
       "      <td>했다</td>\n",
       "    </tr>\n",
       "    <tr>\n",
       "      <th>5138</th>\n",
       "      <td>6번</td>\n",
       "      <td>시각화</td>\n",
       "      <td>NaN</td>\n",
       "      <td>NaN</td>\n",
       "      <td>하는</td>\n",
       "    </tr>\n",
       "    <tr>\n",
       "      <th>5139</th>\n",
       "      <td>6번</td>\n",
       "      <td>시각화</td>\n",
       "      <td>NaN</td>\n",
       "      <td>NaN</td>\n",
       "      <td>떨어지는</td>\n",
       "    </tr>\n",
       "    <tr>\n",
       "      <th>5140</th>\n",
       "      <td>6번</td>\n",
       "      <td>시각화</td>\n",
       "      <td>NaN</td>\n",
       "      <td>NaN</td>\n",
       "      <td>보니</td>\n",
       "    </tr>\n",
       "    <tr>\n",
       "      <th>5141</th>\n",
       "      <td>6번</td>\n",
       "      <td>시각화</td>\n",
       "      <td>NaN</td>\n",
       "      <td>NaN</td>\n",
       "      <td>나갔다가</td>\n",
       "    </tr>\n",
       "  </tbody>\n",
       "</table>\n",
       "<p>5142 rows × 5 columns</p>\n",
       "</div>"
      ],
      "text/plain": [
       "      문항  콘텐츠   명사 감정단어(형용사)    동사\n",
       "0     1번   표정   파리       짓궂다  겪었거나\n",
       "1     1번   표정   전화       흐뭇해   놀라는\n",
       "2     1번   표정   생각       귀여운  울고있다\n",
       "3     1번   표정   당첨     흐뭇해하는   만나고\n",
       "4     1번   표정   정장      행복하게    입은\n",
       "...   ..  ...  ...       ...   ...\n",
       "5137  6번  시각화  NaN       NaN    했다\n",
       "5138  6번  시각화  NaN       NaN    하는\n",
       "5139  6번  시각화  NaN       NaN  떨어지는\n",
       "5140  6번  시각화  NaN       NaN    보니\n",
       "5141  6번  시각화  NaN       NaN  나갔다가\n",
       "\n",
       "[5142 rows x 5 columns]"
      ]
     },
     "execution_count": 8,
     "metadata": {},
     "output_type": "execute_result"
    }
   ],
   "source": [
    "# 시각화 4종 모음\n",
    "visuo = pd.concat([face, movie, music_video, visualization], ignore_index=True)\n",
    "visuo"
   ]
  },
  {
   "cell_type": "markdown",
   "id": "bb55cf3e",
   "metadata": {},
   "source": [
    "### 품사별 단어 중복제거해서 개수 변환하는 함수 만들기"
   ]
  },
  {
   "cell_type": "code",
   "execution_count": 9,
   "id": "a8b44d31",
   "metadata": {},
   "outputs": [],
   "source": [
    "def droping_duplicated(df):\n",
    "    drop_noun = df['명사'].drop_duplicates(keep='first')\n",
    "    drop_emo = df['감정단어(형용사)'].drop_duplicates(keep='first')\n",
    "    drop_verb = df['동사'].drop_duplicates(keep='first')\n",
    "    \n",
    "    return len(drop_noun), len(drop_emo), len(drop_verb), len(drop_noun)+len(drop_emo)+len(drop_verb)"
   ]
  },
  {
   "cell_type": "markdown",
   "id": "7c40448c",
   "metadata": {},
   "source": [
    "### 음악"
   ]
  },
  {
   "cell_type": "code",
   "execution_count": 10,
   "id": "73f4a97f",
   "metadata": {},
   "outputs": [
    {
     "data": {
      "text/plain": [
       "(1495, 1335, 2765, 5595)"
      ]
     },
     "execution_count": 10,
     "metadata": {},
     "output_type": "execute_result"
    }
   ],
   "source": [
    "droping_duplicated(music)"
   ]
  },
  {
   "cell_type": "markdown",
   "id": "9f97a81a",
   "metadata": {},
   "source": [
    "### 댄스"
   ]
  },
  {
   "cell_type": "code",
   "execution_count": 11,
   "id": "abd78813",
   "metadata": {},
   "outputs": [
    {
     "data": {
      "text/plain": [
       "(481, 640, 1233, 2354)"
      ]
     },
     "execution_count": 11,
     "metadata": {},
     "output_type": "execute_result"
    }
   ],
   "source": [
    "droping_duplicated(dance)"
   ]
  },
  {
   "cell_type": "markdown",
   "id": "a7dffafd",
   "metadata": {},
   "source": [
    "### 표정"
   ]
  },
  {
   "cell_type": "code",
   "execution_count": 12,
   "id": "a967a466",
   "metadata": {},
   "outputs": [
    {
     "data": {
      "text/plain": [
       "(297, 522, 908, 1727)"
      ]
     },
     "execution_count": 12,
     "metadata": {},
     "output_type": "execute_result"
    }
   ],
   "source": [
    "droping_duplicated(face)"
   ]
  },
  {
   "cell_type": "markdown",
   "id": "507f5a94",
   "metadata": {},
   "source": [
    "### 영화장면"
   ]
  },
  {
   "cell_type": "code",
   "execution_count": 13,
   "id": "02da84a6",
   "metadata": {},
   "outputs": [
    {
     "data": {
      "text/plain": [
       "(338, 568, 993, 1899)"
      ]
     },
     "execution_count": 13,
     "metadata": {},
     "output_type": "execute_result"
    }
   ],
   "source": [
    "droping_duplicated(movie)"
   ]
  },
  {
   "cell_type": "markdown",
   "id": "db287c30",
   "metadata": {},
   "source": [
    "### 뮤직비디오"
   ]
  },
  {
   "cell_type": "code",
   "execution_count": 14,
   "id": "d52059c1",
   "metadata": {},
   "outputs": [
    {
     "data": {
      "text/plain": [
       "(318, 494, 859, 1671)"
      ]
     },
     "execution_count": 14,
     "metadata": {},
     "output_type": "execute_result"
    }
   ],
   "source": [
    "droping_duplicated(music_video)"
   ]
  },
  {
   "cell_type": "markdown",
   "id": "2df1ea20",
   "metadata": {},
   "source": [
    "### 시각화"
   ]
  },
  {
   "cell_type": "code",
   "execution_count": 15,
   "id": "39f6a3a8",
   "metadata": {},
   "outputs": [
    {
     "data": {
      "text/plain": [
       "(254, 322, 736, 1312)"
      ]
     },
     "execution_count": 15,
     "metadata": {},
     "output_type": "execute_result"
    }
   ],
   "source": [
    "droping_duplicated(visualization)"
   ]
  },
  {
   "cell_type": "markdown",
   "id": "4f83bc82",
   "metadata": {},
   "source": [
    "### 시각화 4종 모음"
   ]
  },
  {
   "cell_type": "code",
   "execution_count": 16,
   "id": "f943f82b",
   "metadata": {},
   "outputs": [
    {
     "data": {
      "text/plain": [
       "(871, 1354, 2560, 4785)"
      ]
     },
     "execution_count": 16,
     "metadata": {},
     "output_type": "execute_result"
    }
   ],
   "source": [
    "droping_duplicated(visuo)"
   ]
  },
  {
   "cell_type": "code",
   "execution_count": null,
   "id": "a78e96e8",
   "metadata": {},
   "outputs": [],
   "source": []
  },
  {
   "cell_type": "code",
   "execution_count": null,
   "id": "66bc7ebd",
   "metadata": {},
   "outputs": [],
   "source": []
  }
 ],
 "metadata": {
  "kernelspec": {
   "display_name": "Python 3",
   "language": "python",
   "name": "python3"
  },
  "language_info": {
   "codemirror_mode": {
    "name": "ipython",
    "version": 3
   },
   "file_extension": ".py",
   "mimetype": "text/x-python",
   "name": "python",
   "nbconvert_exporter": "python",
   "pygments_lexer": "ipython3",
   "version": "3.6.13"
  }
 },
 "nbformat": 4,
 "nbformat_minor": 5
}
